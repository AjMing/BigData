{
  "nbformat": 4,
  "nbformat_minor": 0,
  "metadata": {
    "colab": {
      "provenance": [],
      "authorship_tag": "ABX9TyMegw1S5nkn4rn3hewQrI4j",
      "include_colab_link": true
    },
    "kernelspec": {
      "name": "python3",
      "display_name": "Python 3"
    },
    "language_info": {
      "name": "python"
    }
  },
  "cells": [
    {
      "cell_type": "markdown",
      "metadata": {
        "id": "view-in-github",
        "colab_type": "text"
      },
      "source": [
        "<a href=\"https://colab.research.google.com/github/AjMing/BigData/blob/main/Demo_SparkSQL.ipynb\" target=\"_parent\"><img src=\"https://colab.research.google.com/assets/colab-badge.svg\" alt=\"Open In Colab\"/></a>"
      ]
    },
    {
      "cell_type": "code",
      "execution_count": null,
      "metadata": {
        "colab": {
          "base_uri": "https://localhost:8080/"
        },
        "id": "-U8OiIuROjxU",
        "outputId": "173a364b-33cd-4e40-f38c-e2a11a5b0577"
      },
      "outputs": [
        {
          "output_type": "stream",
          "name": "stdout",
          "text": [
            "Collecting pyspark\n",
            "  Downloading pyspark-3.5.1.tar.gz (317.0 MB)\n",
            "\u001b[2K     \u001b[90m━━━━━━━━━━━━━━━━━━━━━━━━━━━━━━━━━━━━━━━━\u001b[0m \u001b[32m317.0/317.0 MB\u001b[0m \u001b[31m2.1 MB/s\u001b[0m eta \u001b[36m0:00:00\u001b[0m\n",
            "\u001b[?25h  Preparing metadata (setup.py) ... \u001b[?25l\u001b[?25hdone\n",
            "Requirement already satisfied: py4j==0.10.9.7 in /usr/local/lib/python3.10/dist-packages (from pyspark) (0.10.9.7)\n",
            "Building wheels for collected packages: pyspark\n",
            "  Building wheel for pyspark (setup.py) ... \u001b[?25l\u001b[?25hdone\n",
            "  Created wheel for pyspark: filename=pyspark-3.5.1-py2.py3-none-any.whl size=317488491 sha256=1e6c07c9c52ff76c297884730ed5f0e26436694e760f85a6c92ffb449699b864\n",
            "  Stored in directory: /root/.cache/pip/wheels/80/1d/60/2c256ed38dddce2fdd93be545214a63e02fbd8d74fb0b7f3a6\n",
            "Successfully built pyspark\n",
            "Installing collected packages: pyspark\n",
            "Successfully installed pyspark-3.5.1\n",
            "Collecting findspark\n",
            "  Downloading findspark-2.0.1-py2.py3-none-any.whl (4.4 kB)\n",
            "Installing collected packages: findspark\n",
            "Successfully installed findspark-2.0.1\n"
          ]
        }
      ],
      "source": [
        "# Installing required packages\n",
        "!pip install pyspark\n",
        "!pip install findspark"
      ]
    },
    {
      "cell_type": "code",
      "source": [
        "import findspark\n",
        "findspark.init()"
      ],
      "metadata": {
        "id": "zUpuyBRHPA1Y"
      },
      "execution_count": null,
      "outputs": []
    },
    {
      "cell_type": "code",
      "source": [
        "# PySpark is the Spark API for Python. In this lab, we use PySpark to initialize the spark context.\n",
        "from pyspark import SparkContext, SparkConf\n",
        "from pyspark.sql import SparkSession"
      ],
      "metadata": {
        "id": "uvpcGWJ0PEmL"
      },
      "execution_count": null,
      "outputs": []
    },
    {
      "cell_type": "code",
      "source": [
        "# Creating a spark context class\n",
        "sc = SparkContext()"
      ],
      "metadata": {
        "id": "S86JO9hFdlHb"
      },
      "execution_count": null,
      "outputs": []
    },
    {
      "cell_type": "code",
      "source": [
        "spark = SparkSession \\\n",
        "    .builder \\\n",
        "    .getOrCreate()"
      ],
      "metadata": {
        "id": "QoT97rvNbH_e"
      },
      "execution_count": null,
      "outputs": []
    },
    {
      "cell_type": "code",
      "source": [
        "data=[('A',1),('B',2),('C',3)]"
      ],
      "metadata": {
        "id": "csniE1o4dxUs"
      },
      "execution_count": null,
      "outputs": []
    },
    {
      "cell_type": "code",
      "source": [
        "rdd=sc.parallelize(data)"
      ],
      "metadata": {
        "id": "0VDeUiCyek8B"
      },
      "execution_count": null,
      "outputs": []
    },
    {
      "cell_type": "code",
      "source": [
        "print(rdd.glom().collect())"
      ],
      "metadata": {
        "colab": {
          "base_uri": "https://localhost:8080/"
        },
        "id": "xJiKII1s5Q9e",
        "outputId": "ba0fa78b-6db7-4684-a561-3dee5ecc98c1"
      },
      "execution_count": null,
      "outputs": [
        {
          "output_type": "stream",
          "name": "stdout",
          "text": [
            "[[('A', 1)], [('B', 2), ('C', 3)]]\n"
          ]
        }
      ]
    },
    {
      "cell_type": "markdown",
      "source": [
        "# Create DataFrame"
      ],
      "metadata": {
        "id": "ANxDTDZFbVJN"
      }
    },
    {
      "cell_type": "code",
      "source": [
        "dfFromRDD=rdd.toDF()\n",
        "dfFromRDD.printSchema()\n",
        "dfFromRDD.show()"
      ],
      "metadata": {
        "colab": {
          "base_uri": "https://localhost:8080/"
        },
        "id": "XCDhf-KKeeEW",
        "outputId": "8fa9800f-c080-4293-da1e-d57995189549"
      },
      "execution_count": null,
      "outputs": [
        {
          "output_type": "stream",
          "name": "stdout",
          "text": [
            "root\n",
            " |-- _1: string (nullable = true)\n",
            " |-- _2: long (nullable = true)\n",
            "\n",
            "+---+---+\n",
            "| _1| _2|\n",
            "+---+---+\n",
            "|  A|  1|\n",
            "|  B|  2|\n",
            "|  C|  3|\n",
            "+---+---+\n",
            "\n"
          ]
        }
      ]
    },
    {
      "cell_type": "code",
      "source": [
        "header=['key','value']"
      ],
      "metadata": {
        "id": "DDQODxfyYkxw"
      },
      "execution_count": null,
      "outputs": []
    },
    {
      "cell_type": "code",
      "source": [
        "dfFromRDD1=rdd.toDF(header)\n",
        "dfFromRDD1.printSchema()"
      ],
      "metadata": {
        "colab": {
          "base_uri": "https://localhost:8080/"
        },
        "id": "1tuGv7EpPXHm",
        "outputId": "31835674-abac-4e6f-d7ff-607cd5ec56b7"
      },
      "execution_count": null,
      "outputs": [
        {
          "output_type": "stream",
          "name": "stdout",
          "text": [
            "root\n",
            " |-- word: string (nullable = true)\n",
            " |-- count: long (nullable = true)\n",
            "\n"
          ]
        }
      ]
    },
    {
      "cell_type": "code",
      "source": [
        "dfFromRDD.show()"
      ],
      "metadata": {
        "colab": {
          "base_uri": "https://localhost:8080/"
        },
        "id": "h_dq9WY8tmkN",
        "outputId": "5df067ea-dc10-4a87-c190-e66044fd53e7"
      },
      "execution_count": null,
      "outputs": [
        {
          "output_type": "stream",
          "name": "stdout",
          "text": [
            "+---+---+\n",
            "| _1| _2|\n",
            "+---+---+\n",
            "|  A|  1|\n",
            "|  B|  2|\n",
            "|  C|  3|\n",
            "+---+---+\n",
            "\n"
          ]
        }
      ]
    },
    {
      "cell_type": "code",
      "source": [
        "dfFromRDD1.show()"
      ],
      "metadata": {
        "colab": {
          "base_uri": "https://localhost:8080/"
        },
        "id": "hw5ccDy4d1Bq",
        "outputId": "3355202e-8bdd-4faa-f5bf-3a35699a8433"
      },
      "execution_count": null,
      "outputs": [
        {
          "output_type": "stream",
          "name": "stdout",
          "text": [
            "+----+-----+\n",
            "|word|count|\n",
            "+----+-----+\n",
            "|   A|    1|\n",
            "|   B|    2|\n",
            "|   C|    3|\n",
            "+----+-----+\n",
            "\n"
          ]
        }
      ]
    },
    {
      "cell_type": "markdown",
      "source": [
        "Option2: Import RDD with column"
      ],
      "metadata": {
        "id": "oXlLli6NfnsB"
      }
    },
    {
      "cell_type": "code",
      "source": [
        "dfFromRDD2=spark.createDataFrame(rdd).toDF(*header)"
      ],
      "metadata": {
        "id": "EJpbYATWeAk1"
      },
      "execution_count": null,
      "outputs": []
    },
    {
      "cell_type": "code",
      "source": [
        "dfFromRDD2.printSchema()"
      ],
      "metadata": {
        "id": "Snul2oOGeNip",
        "colab": {
          "base_uri": "https://localhost:8080/"
        },
        "outputId": "90ac2674-c536-4531-c375-3dc61c9864b2"
      },
      "execution_count": null,
      "outputs": [
        {
          "output_type": "stream",
          "name": "stdout",
          "text": [
            "root\n",
            " |-- word: string (nullable = true)\n",
            " |-- count: long (nullable = true)\n",
            "\n"
          ]
        }
      ]
    },
    {
      "cell_type": "code",
      "source": [
        "dfFromRDD2.show()"
      ],
      "metadata": {
        "id": "qSkThO4TeNN_",
        "colab": {
          "base_uri": "https://localhost:8080/"
        },
        "outputId": "dacf224c-4001-495d-c099-fe06179b7f29"
      },
      "execution_count": null,
      "outputs": [
        {
          "output_type": "stream",
          "name": "stdout",
          "text": [
            "+----+-----+\n",
            "|word|count|\n",
            "+----+-----+\n",
            "|   A|    1|\n",
            "|   B|    2|\n",
            "|   C|    3|\n",
            "+----+-----+\n",
            "\n"
          ]
        }
      ]
    },
    {
      "cell_type": "markdown",
      "source": [
        "Option3: Import the data directly"
      ],
      "metadata": {
        "id": "rJcd-4MmfrJU"
      }
    },
    {
      "cell_type": "code",
      "source": [
        "dfFromRDD3=spark.createDataFrame(data).toDF(*header)\n",
        "dfFromRDD3.printSchema()\n",
        "dfFromRDD3.show()"
      ],
      "metadata": {
        "colab": {
          "base_uri": "https://localhost:8080/"
        },
        "id": "f-BIwJ08flc_",
        "outputId": "954691a2-4af5-4c37-f4ad-179bf1e7b36b"
      },
      "execution_count": null,
      "outputs": [
        {
          "output_type": "stream",
          "name": "stdout",
          "text": [
            "root\n",
            " |-- key: string (nullable = true)\n",
            " |-- value: long (nullable = true)\n",
            "\n",
            "+---+-----+\n",
            "|key|value|\n",
            "+---+-----+\n",
            "|  A|    1|\n",
            "|  B|    2|\n",
            "|  C|    3|\n",
            "+---+-----+\n",
            "\n"
          ]
        }
      ]
    },
    {
      "cell_type": "code",
      "source": [
        "sc.stop()"
      ],
      "metadata": {
        "id": "3AdPMfD7e2nQ"
      },
      "execution_count": null,
      "outputs": []
    },
    {
      "cell_type": "markdown",
      "source": [
        "# Import DataFrame"
      ],
      "metadata": {
        "id": "dSoEfg4yePNV"
      }
    },
    {
      "cell_type": "code",
      "source": [
        "# Creating a spark session\n",
        "spark = SparkSession \\\n",
        "    .builder \\\n",
        "    .appName(\"Python Spark DataFrames Import example\") \\\n",
        "    .config(\"spark.some.config.option\", \"some-value\") \\\n",
        "    .getOrCreate()"
      ],
      "metadata": {
        "id": "QTYLEGhkhwSw"
      },
      "execution_count": null,
      "outputs": []
    },
    {
      "cell_type": "code",
      "source": [
        "#dataframe native"
      ],
      "metadata": {
        "id": "sp0bLl5azvkK"
      },
      "execution_count": null,
      "outputs": []
    },
    {
      "cell_type": "code",
      "source": [
        "dataframe = spark.read.csv(path+\"students.csv\",header='true',inferSchema=True)\n",
        "dataframe.show()\n",
        "dataframe.printSchema()\n"
      ],
      "metadata": {
        "id": "w97qEnAVZRON"
      },
      "execution_count": null,
      "outputs": []
    },
    {
      "cell_type": "code",
      "source": [
        "dataframe.head()"
      ],
      "metadata": {
        "id": "LZNiG-0ynHlo"
      },
      "execution_count": null,
      "outputs": []
    },
    {
      "cell_type": "code",
      "source": [
        "#Get Column Name\n",
        "dataframe.columns"
      ],
      "metadata": {
        "id": "5OP--Q4ph3mh"
      },
      "execution_count": null,
      "outputs": []
    },
    {
      "cell_type": "code",
      "source": [
        "df_new=dataframe.withColumn('Graduation age',dataframe['AGE']+4)\n"
      ],
      "metadata": {
        "id": "tVH2xH_U5GLo"
      },
      "execution_count": null,
      "outputs": []
    },
    {
      "cell_type": "code",
      "source": [
        "df_new.show()"
      ],
      "metadata": {
        "colab": {
          "base_uri": "https://localhost:8080/"
        },
        "id": "FaeLCBXP6MTp",
        "outputId": "1377f134-afd5-4d26-9b0f-220d656d0999"
      },
      "execution_count": null,
      "outputs": [
        {
          "output_type": "stream",
          "name": "stdout",
          "text": [
            "+------+---+----+--------------+\n",
            "|  Name|AGE| GPA|Graduation age|\n",
            "+------+---+----+--------------+\n",
            "|Edward| 15|NULL|            19|\n",
            "|   Ken| 19| 2.5|            23|\n",
            "|  Ploy| 20| 3.8|            24|\n",
            "|   Que| 25| 2.9|            29|\n",
            "|   NUT| 24| 3.9|            28|\n",
            "+------+---+----+--------------+\n",
            "\n"
          ]
        }
      ]
    },
    {
      "cell_type": "code",
      "source": [
        "from pyspark.sql.functions import avg\n",
        "df_new.select(avg(df_new[\"GPA\"])).show()\n"
      ],
      "metadata": {
        "id": "VyYxYH7B8jsv",
        "colab": {
          "base_uri": "https://localhost:8080/"
        },
        "outputId": "e7c52847-2c1b-4229-b7e2-6731f3b52e9a"
      },
      "execution_count": null,
      "outputs": [
        {
          "output_type": "stream",
          "name": "stdout",
          "text": [
            "+--------+\n",
            "|avg(GPA)|\n",
            "+--------+\n",
            "|   3.275|\n",
            "+--------+\n",
            "\n"
          ]
        }
      ]
    },
    {
      "cell_type": "code",
      "source": [
        "df_new.filter(df_new[\"Graduation age\"] > 21).show()"
      ],
      "metadata": {
        "colab": {
          "base_uri": "https://localhost:8080/"
        },
        "id": "CmiKreXq9lVB",
        "outputId": "240eafcc-e1ce-432f-efcb-baf120373235"
      },
      "execution_count": null,
      "outputs": [
        {
          "output_type": "stream",
          "name": "stdout",
          "text": [
            "+----+---+---+--------------+\n",
            "|Name|AGE|GPA|Graduation age|\n",
            "+----+---+---+--------------+\n",
            "| Ken| 19|2.5|            23|\n",
            "|Ploy| 20|3.8|            24|\n",
            "| Que| 25|2.9|            29|\n",
            "| NUT| 24|3.9|            28|\n",
            "+----+---+---+--------------+\n",
            "\n"
          ]
        }
      ]
    },
    {
      "cell_type": "code",
      "source": [
        "df=df_new.na.drop()\n",
        "df.show()"
      ],
      "metadata": {
        "colab": {
          "base_uri": "https://localhost:8080/"
        },
        "id": "ibM5F_fi9K9P",
        "outputId": "8f1fcf4f-9455-4348-b308-f53ce2616c69"
      },
      "execution_count": null,
      "outputs": [
        {
          "output_type": "stream",
          "name": "stdout",
          "text": [
            "+----+---+---+--------------+\n",
            "|Name|AGE|GPA|Graduation age|\n",
            "+----+---+---+--------------+\n",
            "| Ken| 19|2.5|            23|\n",
            "|Ploy| 20|3.8|            24|\n",
            "| Que| 25|2.9|            29|\n",
            "| NUT| 24|3.9|            28|\n",
            "+----+---+---+--------------+\n",
            "\n"
          ]
        }
      ]
    },
    {
      "cell_type": "code",
      "source": [
        "from pyspark.sql.functions import udf\n"
      ],
      "metadata": {
        "id": "DXrBX5Si9GSn"
      },
      "execution_count": null,
      "outputs": []
    },
    {
      "cell_type": "code",
      "source": [
        "def UpperCase(str):\n",
        "  return str.upper()"
      ],
      "metadata": {
        "id": "VyN9v--aBwrv"
      },
      "execution_count": null,
      "outputs": []
    },
    {
      "cell_type": "code",
      "source": [
        "upperCaseUDF=udf(lambda z: UpperCase(z))"
      ],
      "metadata": {
        "id": "8QlBIw5HBzUo"
      },
      "execution_count": null,
      "outputs": []
    },
    {
      "cell_type": "code",
      "source": [
        "df.withColumn(\"Uppercase Name\",upperCaseUDF(\"Name\")).show()"
      ],
      "metadata": {
        "colab": {
          "base_uri": "https://localhost:8080/"
        },
        "id": "js2M4E4wB13P",
        "outputId": "f0c670f0-e4d0-4b26-b6ce-0f8231d33d4d"
      },
      "execution_count": null,
      "outputs": [
        {
          "output_type": "stream",
          "name": "stdout",
          "text": [
            "+----+---+---+--------------+--------------+\n",
            "|Name|AGE|GPA|Graduation age|Uppercase Name|\n",
            "+----+---+---+--------------+--------------+\n",
            "| Ken| 19|2.5|            23|           KEN|\n",
            "|Ploy| 20|3.8|            24|          PLOY|\n",
            "| Que| 25|2.9|            29|           QUE|\n",
            "| NUT| 24|3.9|            28|           NUT|\n",
            "+----+---+---+--------------+--------------+\n",
            "\n"
          ]
        }
      ]
    },
    {
      "cell_type": "markdown",
      "source": [
        "# **Exercise 1**:** Explore the data using DataFrame** functions and SparkSQL\n",
        "\n",
        "\n",
        "\n",
        "\n",
        "In this section, we explore the datasets using functions both from dataframes as well as corresponding SQL queries using sparksql. Note the different ways to achieve the same task!# New Section"
      ],
      "metadata": {
        "id": "zlHD7jAZSCuj"
      }
    },
    {
      "cell_type": "code",
      "source": [
        "#  Exercise 1 Select and show basic data columns\n",
        "\n"
      ],
      "metadata": {
        "colab": {
          "base_uri": "https://localhost:8080/"
        },
        "id": "JAIvIVe3SHZn",
        "outputId": "a10b8a3e-2fab-47b1-dab8-0a7bb4a799fe"
      },
      "execution_count": null,
      "outputs": [
        {
          "output_type": "stream",
          "name": "stdout",
          "text": [
            "+----+\n",
            "| age|\n",
            "+----+\n",
            "|null|\n",
            "|  30|\n",
            "|  19|\n",
            "|null|\n",
            "+----+\n",
            "\n",
            "+---------+\n",
            "|     name|\n",
            "+---------+\n",
            "|  Krisada|\n",
            "|   Pradya|\n",
            "|   Justin|\n",
            "|Teeravach|\n",
            "+---------+\n",
            "\n"
          ]
        }
      ]
    },
    {
      "cell_type": "code",
      "source": [
        "# #Exercise 2 Register the DataFrame as a SQL temporary view\n"
      ],
      "metadata": {
        "id": "YE5oBcKJfpT7"
      },
      "execution_count": null,
      "outputs": []
    },
    {
      "cell_type": "code",
      "source": [
        "spark.sql(\"SELECT name,age FROM people\").show()"
      ],
      "metadata": {
        "colab": {
          "base_uri": "https://localhost:8080/"
        },
        "id": "5KJ99QVP-7au",
        "outputId": "10c16ae4-6197-4a8e-cc48-ca401c26dead"
      },
      "execution_count": null,
      "outputs": [
        {
          "output_type": "stream",
          "name": "stdout",
          "text": [
            "+---------+----+\n",
            "|     name| age|\n",
            "+---------+----+\n",
            "|  Krisada|null|\n",
            "|   Pradya|  30|\n",
            "|   Justin|  19|\n",
            "|Teeravach|null|\n",
            "+---------+----+\n",
            "\n"
          ]
        }
      ]
    },
    {
      "cell_type": "code",
      "source": [
        "df.sort(\"age\").show()\n",
        "spark.sql(\"SELECT * FROM people order by age desc\").show()"
      ],
      "metadata": {
        "colab": {
          "base_uri": "https://localhost:8080/"
        },
        "id": "9JI0Rp8vi4g0",
        "outputId": "836f0172-6434-48d1-82c8-ac212986297b"
      },
      "execution_count": null,
      "outputs": [
        {
          "output_type": "stream",
          "name": "stdout",
          "text": [
            "+----+----+---------+\n",
            "| age| gpa|     name|\n",
            "+----+----+---------+\n",
            "|null|null|  Krisada|\n",
            "|null| 3.9|Teeravach|\n",
            "|  19|null|   Justin|\n",
            "|  30|null|   Pradya|\n",
            "+----+----+---------+\n",
            "\n",
            "+----+----+---------+\n",
            "| age| gpa|     name|\n",
            "+----+----+---------+\n",
            "|  30|null|   Pradya|\n",
            "|  19|null|   Justin|\n",
            "|null|null|  Krisada|\n",
            "|null| 3.9|Teeravach|\n",
            "+----+----+---------+\n",
            "\n"
          ]
        }
      ]
    },
    {
      "cell_type": "code",
      "source": [
        "df.withColumnRenamed('name','Students_name').show()"
      ],
      "metadata": {
        "colab": {
          "base_uri": "https://localhost:8080/"
        },
        "id": "-lCcJCvPAcQ-",
        "outputId": "c5a8592f-060f-4c2b-83a8-abfe9544d2f8"
      },
      "execution_count": null,
      "outputs": [
        {
          "output_type": "stream",
          "name": "stdout",
          "text": [
            "+----+----+-------------+\n",
            "| age| gpa|Students_name|\n",
            "+----+----+-------------+\n",
            "|null|null|      Krisada|\n",
            "|  30|null|       Pradya|\n",
            "|  19|null|       Justin|\n",
            "|null| 3.9|    Teeravach|\n",
            "+----+----+-------------+\n",
            "\n"
          ]
        }
      ]
    },
    {
      "cell_type": "code",
      "source": [
        "df.withColumnRenamed('Students_name','name').show()"
      ],
      "metadata": {
        "colab": {
          "base_uri": "https://localhost:8080/"
        },
        "id": "9NgunCEdAhSY",
        "outputId": "4ab8f788-92ad-41dc-99ed-e4aac450d35a"
      },
      "execution_count": null,
      "outputs": [
        {
          "output_type": "stream",
          "name": "stdout",
          "text": [
            "+----+----+---------+\n",
            "| age| gpa|     name|\n",
            "+----+----+---------+\n",
            "|null|null|  Krisada|\n",
            "|  30|null|   Pradya|\n",
            "|  19|null|   Justin|\n",
            "|null| 3.9|Teeravach|\n",
            "+----+----+---------+\n",
            "\n"
          ]
        }
      ]
    },
    {
      "cell_type": "code",
      "source": [
        "df_new=df.withColumn('Graduation age',df['age']+1)\n",
        "df_new.show()\n"
      ],
      "metadata": {
        "colab": {
          "base_uri": "https://localhost:8080/"
        },
        "id": "fxIJdmb4AvON",
        "outputId": "a3e495d1-c193-44a5-db6a-47301a814296"
      },
      "execution_count": null,
      "outputs": [
        {
          "output_type": "stream",
          "name": "stdout",
          "text": [
            "+----+----+---------+--------------+\n",
            "| age| gpa|     name|Graduation age|\n",
            "+----+----+---------+--------------+\n",
            "|null|null|  Krisada|          null|\n",
            "|  30|null|   Pradya|            31|\n",
            "|  19|null|   Justin|            20|\n",
            "|null| 3.9|Teeravach|          null|\n",
            "+----+----+---------+--------------+\n",
            "\n"
          ]
        }
      ]
    },
    {
      "cell_type": "code",
      "source": [
        "df_new.drop('Graduation age').show()"
      ],
      "metadata": {
        "colab": {
          "base_uri": "https://localhost:8080/"
        },
        "id": "-XVe82RrBImB",
        "outputId": "42179446-0f62-4f28-d4ce-f4f7eb744d4f"
      },
      "execution_count": null,
      "outputs": [
        {
          "output_type": "stream",
          "name": "stdout",
          "text": [
            "+----+----+---------+\n",
            "| age| gpa|     name|\n",
            "+----+----+---------+\n",
            "|null|null|  Krisada|\n",
            "|  30|null|   Pradya|\n",
            "|  19|null|   Justin|\n",
            "|null| 3.9|Teeravach|\n",
            "+----+----+---------+\n",
            "\n"
          ]
        }
      ]
    },
    {
      "cell_type": "code",
      "source": [
        "# Exercise 3 Perform basic filtering (Find only the person age >20)\n",
        "\n"
      ],
      "metadata": {
        "colab": {
          "base_uri": "https://localhost:8080/"
        },
        "id": "F9Y6ADpYSJcq",
        "outputId": "1d4f5b61-f594-4b45-edd1-250441ff24cb"
      },
      "execution_count": null,
      "outputs": [
        {
          "output_type": "stream",
          "name": "stdout",
          "text": [
            "+---+----+------+\n",
            "|age| gpa|  name|\n",
            "+---+----+------+\n",
            "| 30|null|Pradya|\n",
            "+---+----+------+\n",
            "\n",
            "+---+----+------+\n",
            "|age| gpa|  name|\n",
            "+---+----+------+\n",
            "| 30|null|Pradya|\n",
            "+---+----+------+\n",
            "\n"
          ]
        }
      ]
    },
    {
      "cell_type": "code",
      "source": [
        "# Perfom basic aggregation of data\n",
        "df.groupBy(\"age\").count().show()\n",
        "spark.sql(\"SELECT age, COUNT(age) as count FROM people GROUP BY age\").show()"
      ],
      "metadata": {
        "colab": {
          "base_uri": "https://localhost:8080/"
        },
        "id": "WdGt_ffySS6m",
        "outputId": "4bd6e2bd-0018-4e0f-bfe1-45bbd7360994"
      },
      "execution_count": null,
      "outputs": [
        {
          "output_type": "stream",
          "name": "stdout",
          "text": [
            "+----+-----+\n",
            "| age|count|\n",
            "+----+-----+\n",
            "|  19|    1|\n",
            "|null|    2|\n",
            "|  30|    1|\n",
            "+----+-----+\n",
            "\n",
            "+----+-----+\n",
            "| age|count|\n",
            "+----+-----+\n",
            "|  19|    1|\n",
            "|null|    0|\n",
            "|  30|    1|\n",
            "+----+-----+\n",
            "\n"
          ]
        }
      ]
    },
    {
      "cell_type": "code",
      "source": [
        "##Exercise 3 try with a count number of people with 2 different type of commands\n",
        "\n",
        "\n"
      ],
      "metadata": {
        "id": "CkfoLC4lrCQ2"
      },
      "execution_count": null,
      "outputs": []
    },
    {
      "cell_type": "code",
      "source": [
        "def UpperCase(str):\n",
        "  return str.upper()"
      ],
      "metadata": {
        "id": "V0wzm21iQCZz"
      },
      "execution_count": null,
      "outputs": []
    },
    {
      "cell_type": "code",
      "source": [
        "from pyspark.sql.functions import udf\n",
        "\n",
        "upperCaseUDF=udf(lambda z: UpperCase(z))"
      ],
      "metadata": {
        "id": "wkqT7o-sQIKp"
      },
      "execution_count": null,
      "outputs": []
    },
    {
      "cell_type": "code",
      "source": [
        "df2=df1.withColumn(\"Uppercase Name\", upperCaseUDF(\"name\"))"
      ],
      "metadata": {
        "id": "LXbJgeW9QTrR"
      },
      "execution_count": null,
      "outputs": []
    },
    {
      "cell_type": "code",
      "source": [
        "df2.show()"
      ],
      "metadata": {
        "colab": {
          "base_uri": "https://localhost:8080/"
        },
        "id": "YQishH3-QajJ",
        "outputId": "150c418b-ac9b-493e-8c55-ed3b1edbc503"
      },
      "execution_count": null,
      "outputs": [
        {
          "output_type": "stream",
          "name": "stdout",
          "text": [
            "+------+----+-----------+--------------+\n",
            "| Major| age|       name|Uppercase Name|\n",
            "+------+----+-----------+--------------+\n",
            "|EGCO/M|  30|  Nartdanai|     NARTDANAI|\n",
            "|EGCO/M|  29|      Tanut|         TANUT|\n",
            "|EGCO/M|null|  Nattapark|     NATTAPARK|\n",
            "|EGCO/M|  20|  Weerawich|     WEERAWICH|\n",
            "|  EGCO|  22|Threerapong|   THREERAPONG|\n",
            "|EGCO/M|  20|  Weerawich|     WEERAWICH|\n",
            "|  EGCO|  22|Threerapong|   THREERAPONG|\n",
            "+------+----+-----------+--------------+\n",
            "\n"
          ]
        }
      ]
    },
    {
      "cell_type": "code",
      "source": [
        "#Exercise 4   Remove Duplicate\n"
      ],
      "metadata": {
        "id": "EwFT4ZVWziDR"
      },
      "execution_count": null,
      "outputs": []
    },
    {
      "cell_type": "code",
      "source": [
        "#Exercise 5 se average value to fill in the NULL"
      ],
      "metadata": {
        "id": "fxdRBdY4bODa"
      },
      "execution_count": null,
      "outputs": []
    },
    {
      "cell_type": "code",
      "source": [
        "#close session\n",
        "spark.stop()"
      ],
      "metadata": {
        "id": "ddVV46wkWTpy"
      },
      "execution_count": null,
      "outputs": []
    }
  ]
}