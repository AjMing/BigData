{
  "cells": [
    {
      "cell_type": "markdown",
      "metadata": {
        "id": "view-in-github",
        "colab_type": "text"
      },
      "source": [
        "<a href=\"https://colab.research.google.com/github/AjMing/BigData/blob/main/Intro_to_Spark2.ipynb\" target=\"_parent\"><img src=\"https://colab.research.google.com/assets/colab-badge.svg\" alt=\"Open In Colab\"/></a>"
      ]
    },
    {
      "cell_type": "markdown",
      "source": [
        "# Spark Install\n",
        "Introduction to Python and Spark (PySpark). These libraries should be installed in your lab environments"
      ],
      "metadata": {
        "id": "yTnEBkRAn28Z"
      }
    },
    {
      "cell_type": "code",
      "source": [
        "# Installing required packages\n",
        "!pip install pyspark\n",
        "!pip install findspark"
      ],
      "metadata": {
        "id": "R2mbIAB5r2N7",
        "colab": {
          "base_uri": "https://localhost:8080/"
        },
        "outputId": "1368e106-d3b4-475a-8c0a-0779ebaa4ce4"
      },
      "execution_count": 1,
      "outputs": [
        {
          "output_type": "stream",
          "name": "stdout",
          "text": [
            "Collecting pyspark\n",
            "  Downloading pyspark-3.5.1.tar.gz (317.0 MB)\n",
            "\u001b[2K     \u001b[90m━━━━━━━━━━━━━━━━━━━━━━━━━━━━━━━━━━━━━━━━\u001b[0m \u001b[32m317.0/317.0 MB\u001b[0m \u001b[31m2.4 MB/s\u001b[0m eta \u001b[36m0:00:00\u001b[0m\n",
            "\u001b[?25h  Preparing metadata (setup.py) ... \u001b[?25l\u001b[?25hdone\n",
            "Requirement already satisfied: py4j==0.10.9.7 in /usr/local/lib/python3.10/dist-packages (from pyspark) (0.10.9.7)\n",
            "Building wheels for collected packages: pyspark\n",
            "  Building wheel for pyspark (setup.py) ... \u001b[?25l\u001b[?25hdone\n",
            "  Created wheel for pyspark: filename=pyspark-3.5.1-py2.py3-none-any.whl size=317488491 sha256=1ffd459ff34ebb77e0738a2c549b8bfd500f9f4b2136530c9a5c208a6fb7c6a0\n",
            "  Stored in directory: /root/.cache/pip/wheels/80/1d/60/2c256ed38dddce2fdd93be545214a63e02fbd8d74fb0b7f3a6\n",
            "Successfully built pyspark\n",
            "Installing collected packages: pyspark\n",
            "Successfully installed pyspark-3.5.1\n",
            "Collecting findspark\n",
            "  Downloading findspark-2.0.1-py2.py3-none-any.whl (4.4 kB)\n",
            "Installing collected packages: findspark\n",
            "Successfully installed findspark-2.0.1\n"
          ]
        }
      ]
    },
    {
      "cell_type": "code",
      "source": [
        "import findspark\n",
        "findspark.init()"
      ],
      "metadata": {
        "id": "SZB0asmNoGMN"
      },
      "execution_count": 2,
      "outputs": []
    },
    {
      "cell_type": "markdown",
      "source": [
        "# Task 1 Create SparkContext"
      ],
      "metadata": {
        "id": "l8AfOiU0oPlg"
      }
    },
    {
      "cell_type": "code",
      "source": [
        "\n",
        "from pyspark import SparkContext,SparkConf\n",
        "# Creating a spark context class\n",
        "sc = SparkContext()"
      ],
      "metadata": {
        "id": "GkW2g0f-wlfO"
      },
      "execution_count": 4,
      "outputs": []
    },
    {
      "cell_type": "code",
      "source": [
        "data =[\"I love Cats\",\"I hate Bees\",\"dOgs are friendly\",\"FISH is swimming\",\"pin is in the sea\"]\n",
        "raw = sc.parallelize(data,3)"
      ],
      "metadata": {
        "id": "UfQ1z7xWH8hp"
      },
      "execution_count": 5,
      "outputs": []
    },
    {
      "cell_type": "code",
      "source": [
        "raw.getNumPartitions()"
      ],
      "metadata": {
        "id": "gKdkT8E3Ao8y",
        "colab": {
          "base_uri": "https://localhost:8080/"
        },
        "outputId": "39f9c97d-5834-43c2-ba38-57fed6b2e27c"
      },
      "execution_count": 6,
      "outputs": [
        {
          "output_type": "execute_result",
          "data": {
            "text/plain": [
              "3"
            ]
          },
          "metadata": {},
          "execution_count": 6
        }
      ]
    },
    {
      "cell_type": "code",
      "source": [
        "print(raw.glom().collect())"
      ],
      "metadata": {
        "id": "clKdS-yD5b0i",
        "colab": {
          "base_uri": "https://localhost:8080/"
        },
        "outputId": "4560315e-0791-4b25-bf38-8322330fc9ec"
      },
      "execution_count": 7,
      "outputs": [
        {
          "output_type": "stream",
          "name": "stdout",
          "text": [
            "[['I love Cats'], ['I hate Bees', 'dOgs are friendly'], ['FISH is swimming', 'pin is in the sea']]\n"
          ]
        }
      ]
    },
    {
      "cell_type": "code",
      "source": [
        "def lower(line):\n",
        "  return line.lower()"
      ],
      "metadata": {
        "id": "Qu28fWc7HRCA"
      },
      "execution_count": 8,
      "outputs": []
    },
    {
      "cell_type": "code",
      "source": [
        "lower_text_RDD=raw.map(lower)"
      ],
      "metadata": {
        "id": "jNd8H8yLtGfd"
      },
      "execution_count": 9,
      "outputs": []
    },
    {
      "cell_type": "code",
      "source": [
        "dataColl=lower_text_RDD.collect()\n",
        "for lines in dataColl:\n",
        "  print(lines)\n"
      ],
      "metadata": {
        "id": "-WuhCDXUKv1X",
        "colab": {
          "base_uri": "https://localhost:8080/"
        },
        "outputId": "cf24be40-8d1d-4d40-8896-3780ae5f641c"
      },
      "execution_count": 10,
      "outputs": [
        {
          "output_type": "stream",
          "name": "stdout",
          "text": [
            "i love cats\n",
            "i hate bees\n",
            "dogs are friendly\n",
            "fish is swimming\n",
            "pin is in the sea\n"
          ]
        }
      ]
    },
    {
      "cell_type": "code",
      "source": [
        "print(lower_text_RDD.glom().collect())"
      ],
      "metadata": {
        "id": "hedhyDk6BCdK",
        "colab": {
          "base_uri": "https://localhost:8080/"
        },
        "outputId": "33c4cc4c-3bcc-48b3-e449-b78eb2a5d542"
      },
      "execution_count": 12,
      "outputs": [
        {
          "output_type": "stream",
          "name": "stdout",
          "text": [
            "[['i love cats'], ['i hate bees', 'dogs are friendly'], ['fish is swimming', 'pin is in the sea']]\n"
          ]
        }
      ]
    },
    {
      "cell_type": "code",
      "source": [
        "word_RDD = lower_text_RDD.flatMap(lambda line : line.split(\" \"))"
      ],
      "metadata": {
        "id": "jOxxuqzXMIgb"
      },
      "execution_count": 13,
      "outputs": []
    },
    {
      "cell_type": "markdown",
      "source": [],
      "metadata": {
        "id": "9ggEXYCnSFA7"
      }
    },
    {
      "cell_type": "code",
      "source": [
        "print(word_RDD.glom().collect())"
      ],
      "metadata": {
        "id": "E7YI7Xn8BlCH",
        "colab": {
          "base_uri": "https://localhost:8080/"
        },
        "outputId": "41c17989-5312-44cb-f1d6-dae8ee0e2930"
      },
      "execution_count": 14,
      "outputs": [
        {
          "output_type": "stream",
          "name": "stdout",
          "text": [
            "[['i', 'love', 'cats'], ['i', 'hate', 'bees', 'dogs', 'are', 'friendly'], ['fish', 'is', 'swimming', 'pin', 'is', 'in', 'the', 'sea']]\n"
          ]
        }
      ]
    },
    {
      "cell_type": "code",
      "source": [
        "col2=word_RDD.collect()\n",
        "for lines in col2:\n",
        "  print(lines)\n"
      ],
      "metadata": {
        "id": "F_vnCNeBOPgS",
        "colab": {
          "base_uri": "https://localhost:8080/"
        },
        "outputId": "8eb4cba5-4f08-40fc-b6e7-194c7fd1bd23"
      },
      "execution_count": 15,
      "outputs": [
        {
          "output_type": "stream",
          "name": "stdout",
          "text": [
            "i\n",
            "love\n",
            "cats\n",
            "i\n",
            "hate\n",
            "bees\n",
            "dogs\n",
            "are\n",
            "friendly\n",
            "fish\n",
            "is\n",
            "swimming\n",
            "pin\n",
            "is\n",
            "in\n",
            "the\n",
            "sea\n"
          ]
        }
      ]
    },
    {
      "cell_type": "code",
      "source": [
        "#def first(line):\n",
        " # return line[0]\n",
        "first_RDD=word_RDD.map(lambda word : (word[0], 1))\n",
        "col3=first_RDD.collect()\n",
        "for lines in col3:\n",
        "  print(lines)\n"
      ],
      "metadata": {
        "id": "NO8GJVJVRcJ3",
        "colab": {
          "base_uri": "https://localhost:8080/"
        },
        "outputId": "88c9b4ee-0f09-452c-82e6-704c55e1d064"
      },
      "execution_count": 16,
      "outputs": [
        {
          "output_type": "stream",
          "name": "stdout",
          "text": [
            "('i', 1)\n",
            "('l', 1)\n",
            "('c', 1)\n",
            "('i', 1)\n",
            "('h', 1)\n",
            "('b', 1)\n",
            "('d', 1)\n",
            "('a', 1)\n",
            "('f', 1)\n",
            "('f', 1)\n",
            "('i', 1)\n",
            "('s', 1)\n",
            "('p', 1)\n",
            "('i', 1)\n",
            "('i', 1)\n",
            "('t', 1)\n",
            "('s', 1)\n"
          ]
        }
      ]
    },
    {
      "cell_type": "code",
      "source": [
        "sum = first_RDD.reduceByKey(lambda a, b: (a + b))\n",
        "for lines in sum.collect():\n",
        "  print(lines)"
      ],
      "metadata": {
        "id": "GuiLcRZCSP7Q",
        "colab": {
          "base_uri": "https://localhost:8080/"
        },
        "outputId": "55bb4272-798e-4e16-b8f6-093bd8dce71a"
      },
      "execution_count": 17,
      "outputs": [
        {
          "output_type": "stream",
          "name": "stdout",
          "text": [
            "('l', 1)\n",
            "('d', 1)\n",
            "('s', 2)\n",
            "('t', 1)\n",
            "('i', 5)\n",
            "('h', 1)\n",
            "('b', 1)\n",
            "('c', 1)\n",
            "('a', 1)\n",
            "('f', 2)\n",
            "('p', 1)\n"
          ]
        }
      ]
    },
    {
      "cell_type": "code",
      "source": [
        "counts = first_RDD.countByKey()\n",
        "print(counts)"
      ],
      "metadata": {
        "id": "yu1p7A33W4xJ",
        "colab": {
          "base_uri": "https://localhost:8080/"
        },
        "outputId": "3ad55d2d-773f-4e81-c98a-0d7348dcc71b"
      },
      "execution_count": 18,
      "outputs": [
        {
          "output_type": "stream",
          "name": "stdout",
          "text": [
            "defaultdict(<class 'int'>, {'i': 5, 'l': 1, 'c': 1, 'h': 1, 'b': 1, 'd': 1, 'a': 1, 'f': 2, 's': 2, 'p': 1, 't': 1})\n"
          ]
        }
      ]
    },
    {
      "cell_type": "code",
      "source": [
        "wordsRDD=lower_text_RDD.filter(lambda x: x.startswith(('f','d','i')))\n",
        "col5=wordsRDD.collect()\n",
        "for lines in col5:\n",
        "  print(lines)\n"
      ],
      "metadata": {
        "id": "7zrP3TbaZ7nO",
        "colab": {
          "base_uri": "https://localhost:8080/"
        },
        "outputId": "0df55f3c-61de-46fa-a0e1-0b3156bf18fb"
      },
      "execution_count": 19,
      "outputs": [
        {
          "output_type": "stream",
          "name": "stdout",
          "text": [
            "i love cats\n",
            "i hate bees\n",
            "dogs are friendly\n",
            "fish is swimming\n"
          ]
        }
      ]
    },
    {
      "cell_type": "code",
      "source": [
        "sc.stop()"
      ],
      "metadata": {
        "id": "brk30c9fHznE"
      },
      "execution_count": 20,
      "outputs": []
    },
    {
      "cell_type": "code",
      "source": [],
      "metadata": {
        "id": "cd35L_dyH0nz"
      },
      "execution_count": null,
      "outputs": []
    }
  ],
  "metadata": {
    "kernelspec": {
      "display_name": "Python 3",
      "language": "python",
      "name": "python3"
    },
    "language_info": {
      "codemirror_mode": {
        "name": "ipython",
        "version": 3
      },
      "file_extension": ".py",
      "mimetype": "text/x-python",
      "name": "python",
      "nbconvert_exporter": "python",
      "pygments_lexer": "ipython3",
      "version": "3.5.1"
    },
    "colab": {
      "provenance": [],
      "include_colab_link": true
    }
  },
  "nbformat": 4,
  "nbformat_minor": 0
}