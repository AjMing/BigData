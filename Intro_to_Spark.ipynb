{
  "cells": [
    {
      "cell_type": "markdown",
      "metadata": {
        "id": "view-in-github",
        "colab_type": "text"
      },
      "source": [
        "<a href=\"https://colab.research.google.com/github/AjMing/BigData/blob/main/Intro_to_Spark.ipynb\" target=\"_parent\"><img src=\"https://colab.research.google.com/assets/colab-badge.svg\" alt=\"Open In Colab\"/></a>"
      ]
    },
    {
      "cell_type": "markdown",
      "source": [
        "# Spark Install\n",
        "Introduction to Python and Spark (PySpark). These libraries should be installed in your lab environments"
      ],
      "metadata": {
        "id": "yTnEBkRAn28Z"
      }
    },
    {
      "cell_type": "code",
      "source": [
        "# Installing required packages\n",
        "!pip install pyspark\n",
        "!pip install findspark"
      ],
      "metadata": {
        "id": "R2mbIAB5r2N7",
        "colab": {
          "base_uri": "https://localhost:8080/"
        },
        "outputId": "6b19f3a3-2409-40ca-a1e9-570974f5c493"
      },
      "execution_count": 3,
      "outputs": [
        {
          "output_type": "stream",
          "name": "stdout",
          "text": [
            "Collecting pyspark\n",
            "  Downloading pyspark-3.5.1.tar.gz (317.0 MB)\n",
            "\u001b[2K     \u001b[90m━━━━━━━━━━━━━━━━━━━━━━━━━━━━━━━━━━━━━━━━\u001b[0m \u001b[32m317.0/317.0 MB\u001b[0m \u001b[31m3.7 MB/s\u001b[0m eta \u001b[36m0:00:00\u001b[0m\n",
            "\u001b[?25h  Preparing metadata (setup.py) ... \u001b[?25l\u001b[?25hdone\n",
            "Requirement already satisfied: py4j==0.10.9.7 in /usr/local/lib/python3.10/dist-packages (from pyspark) (0.10.9.7)\n",
            "Building wheels for collected packages: pyspark\n",
            "  Building wheel for pyspark (setup.py) ... \u001b[?25l\u001b[?25hdone\n",
            "  Created wheel for pyspark: filename=pyspark-3.5.1-py2.py3-none-any.whl size=317488491 sha256=d62f1b4b33b4a49411787d651007c2e44b502ef5003311f30947689d9f93fb1a\n",
            "  Stored in directory: /root/.cache/pip/wheels/80/1d/60/2c256ed38dddce2fdd93be545214a63e02fbd8d74fb0b7f3a6\n",
            "Successfully built pyspark\n",
            "Installing collected packages: pyspark\n",
            "Successfully installed pyspark-3.5.1\n",
            "Collecting findspark\n",
            "  Downloading findspark-2.0.1-py2.py3-none-any.whl (4.4 kB)\n",
            "Installing collected packages: findspark\n",
            "Successfully installed findspark-2.0.1\n"
          ]
        }
      ]
    },
    {
      "cell_type": "code",
      "source": [
        "import findspark\n",
        "findspark.init()"
      ],
      "metadata": {
        "id": "SZB0asmNoGMN"
      },
      "execution_count": 4,
      "outputs": []
    },
    {
      "cell_type": "markdown",
      "source": [
        "# Task 1 Create SparkContext"
      ],
      "metadata": {
        "id": "l8AfOiU0oPlg"
      }
    },
    {
      "cell_type": "code",
      "execution_count": 9,
      "metadata": {
        "collapsed": true,
        "id": "8vJBmAqrqzy7"
      },
      "outputs": [],
      "source": [
        "from pyspark import SparkContext,SparkConf\n",
        "# Creating a spark context class\n",
        "sc = SparkContext()"
      ]
    },
    {
      "cell_type": "code",
      "source": [
        "data = range(1,30)\n",
        "# print first element of iterator\n",
        "print(data[0])\n",
        "print(len(data))\n",
        "distData = sc.parallelize(data, 4)\n",
        "\n",
        "# this will let us know that we created an RDD\n",
        "distData"
      ],
      "metadata": {
        "colab": {
          "base_uri": "https://localhost:8080/"
        },
        "id": "ADHoyG2eq-k6",
        "outputId": "b25868d5-5d3c-495a-939e-d5b7a3427cb3"
      },
      "execution_count": 13,
      "outputs": [
        {
          "output_type": "stream",
          "name": "stdout",
          "text": [
            "1\n",
            "29\n"
          ]
        },
        {
          "output_type": "execute_result",
          "data": {
            "text/plain": [
              "PythonRDD[5] at RDD at PythonRDD.scala:53"
            ]
          },
          "metadata": {},
          "execution_count": 13
        }
      ]
    },
    {
      "cell_type": "markdown",
      "source": [
        "Cheat way to show how data are distributed  "
      ],
      "metadata": {
        "id": "Fn_a1kJarOK3"
      }
    },
    {
      "cell_type": "code",
      "source": [
        "print(distData.glom().collect())"
      ],
      "metadata": {
        "id": "o8QMVqmP6kEO",
        "colab": {
          "base_uri": "https://localhost:8080/"
        },
        "outputId": "6b32b5cc-0048-435f-a4e0-b064eb7e2487"
      },
      "execution_count": 14,
      "outputs": [
        {
          "output_type": "stream",
          "name": "stdout",
          "text": [
            "[[1, 2, 3, 4, 5, 6, 7], [8, 9, 10, 11, 12, 13, 14], [15, 16, 17, 18, 19, 20, 21], [22, 23, 24, 25, 26, 27, 28, 29]]\n"
          ]
        }
      ]
    },
    {
      "cell_type": "markdown",
      "source": [
        "# Task 2 Transformation"
      ],
      "metadata": {
        "id": "-CuJRBqhroQT"
      }
    },
    {
      "cell_type": "markdown",
      "source": [
        "Using function"
      ],
      "metadata": {
        "id": "8FTM9vTBruU1"
      }
    },
    {
      "cell_type": "code",
      "source": [
        "def add(x):\n",
        "  return x+1"
      ],
      "metadata": {
        "id": "86K9Yx7a7eor"
      },
      "execution_count": 15,
      "outputs": []
    },
    {
      "cell_type": "code",
      "source": [
        "addData=distData.map(add)"
      ],
      "metadata": {
        "id": "hzne4rgs8Ozr"
      },
      "execution_count": 19,
      "outputs": []
    },
    {
      "cell_type": "code",
      "source": [
        "print(addData.glom().collect())"
      ],
      "metadata": {
        "id": "jZzD1Ekp8O2U",
        "colab": {
          "base_uri": "https://localhost:8080/"
        },
        "outputId": "fa81c42d-fdd9-45de-f7b3-ca174e19f6f1"
      },
      "execution_count": 20,
      "outputs": [
        {
          "output_type": "stream",
          "name": "stdout",
          "text": [
            "[[2, 3, 4, 5, 6, 7, 8], [9, 10, 11, 12, 13, 14, 15], [16, 17, 18, 19, 20, 21, 22], [23, 24, 25, 26, 27, 28, 29, 30]]\n"
          ]
        }
      ]
    },
    {
      "cell_type": "markdown",
      "source": [
        "Using Lambda"
      ],
      "metadata": {
        "id": "YvZTNv_hrv5V"
      }
    },
    {
      "cell_type": "code",
      "source": [
        "addData2=addData.map(lambda x : x+1 )"
      ],
      "metadata": {
        "id": "t5faC8my8O4w"
      },
      "execution_count": 24,
      "outputs": []
    },
    {
      "cell_type": "markdown",
      "source": [
        "#Task 3: Actions"
      ],
      "metadata": {
        "id": "exb6_PGar8hc"
      }
    },
    {
      "cell_type": "markdown",
      "source": [],
      "metadata": {
        "id": "rQoybcEpsKIy"
      }
    },
    {
      "cell_type": "code",
      "source": [
        "print(addData2.collect())\n"
      ],
      "metadata": {
        "id": "UOanWjxD8PBY",
        "colab": {
          "base_uri": "https://localhost:8080/"
        },
        "outputId": "ede8fb75-b694-4a01-dc3c-af400d12eb95"
      },
      "execution_count": 25,
      "outputs": [
        {
          "output_type": "stream",
          "name": "stdout",
          "text": [
            "[3, 4, 5, 6, 7, 8, 9, 10, 11, 12, 13, 14, 15, 16, 17, 18, 19, 20, 21, 22, 23, 24, 25, 26, 27, 28, 29, 30, 31]\n"
          ]
        },
        {
          "output_type": "execute_result",
          "data": {
            "text/plain": [
              "29"
            ]
          },
          "metadata": {},
          "execution_count": 25
        }
      ]
    },
    {
      "cell_type": "code",
      "source": [
        "print(addData2.count())"
      ],
      "metadata": {
        "colab": {
          "base_uri": "https://localhost:8080/"
        },
        "id": "Cn0avwqisTXc",
        "outputId": "28098802-16af-4946-bca7-e69b9efcd169"
      },
      "execution_count": 26,
      "outputs": [
        {
          "output_type": "stream",
          "name": "stdout",
          "text": [
            "29\n"
          ]
        }
      ]
    },
    {
      "cell_type": "markdown",
      "source": [
        "# Task 4: Caching Data\n"
      ],
      "metadata": {
        "id": "6dYizNTvsZ3z"
      }
    },
    {
      "cell_type": "code",
      "source": [
        "import time\n",
        "\n",
        "test = sc.parallelize(range(1,50000),4)\n",
        "test.cache()\n",
        "\n",
        "t1 = time.time()\n",
        "# first count will trigger evaluation of count *and* cache\n",
        "count1 = test.count()\n",
        "dt1 = time.time() - t1\n",
        "print(\"dt1: \", dt1)\n",
        "\n",
        "\n",
        "t2 = time.time()\n",
        "# second count operates on cached data only\n",
        "count2 = test.count()\n",
        "dt2 = time.time() - t2\n",
        "print(\"dt2: \", dt2)\n",
        "\n",
        "#test.count()"
      ],
      "metadata": {
        "colab": {
          "base_uri": "https://localhost:8080/"
        },
        "id": "YZr5tKWuscwL",
        "outputId": "73a86901-3ef1-4362-f527-e00b986db7c0"
      },
      "execution_count": 27,
      "outputs": [
        {
          "output_type": "stream",
          "name": "stdout",
          "text": [
            "dt1:  2.616729974746704\n",
            "dt2:  0.8754162788391113\n"
          ]
        }
      ]
    },
    {
      "cell_type": "code",
      "source": [
        "sc.stop()"
      ],
      "metadata": {
        "id": "LEhwUfjV_Hs0"
      },
      "execution_count": null,
      "outputs": []
    },
    {
      "cell_type": "code",
      "source": [
        "print(addData2.collect())"
      ],
      "metadata": {
        "id": "bJDz0i5I_AwY",
        "colab": {
          "base_uri": "https://localhost:8080/"
        },
        "outputId": "eba2f29d-4eb5-4345-a52f-4e5448db02be"
      },
      "execution_count": null,
      "outputs": [
        {
          "output_type": "stream",
          "name": "stdout",
          "text": [
            "[3, 4, 5, 6, 7]\n"
          ]
        }
      ]
    },
    {
      "cell_type": "code",
      "source": [
        "sc = SparkContext()\n"
      ],
      "metadata": {
        "id": "p2vLkMVjcile"
      },
      "execution_count": null,
      "outputs": []
    },
    {
      "cell_type": "code",
      "source": [
        "\n",
        "data =[\"I love Cats\",\"I hate Bees\",\"dOgs are friendly\",\"FISH is swimming\",\"pin is in the sea\"]\n",
        "raw = sc.parallelize(data,3)"
      ],
      "metadata": {
        "id": "UfQ1z7xWH8hp"
      },
      "execution_count": null,
      "outputs": []
    },
    {
      "cell_type": "code",
      "source": [
        "raw.getNumPartitions()"
      ],
      "metadata": {
        "id": "gKdkT8E3Ao8y",
        "colab": {
          "base_uri": "https://localhost:8080/"
        },
        "outputId": "d9e02907-fa8c-4e4a-b140-f19f79704d8e"
      },
      "execution_count": null,
      "outputs": [
        {
          "output_type": "execute_result",
          "data": {
            "text/plain": [
              "3"
            ]
          },
          "metadata": {},
          "execution_count": 15
        }
      ]
    },
    {
      "cell_type": "code",
      "source": [
        "print(raw.glom().collect())"
      ],
      "metadata": {
        "id": "clKdS-yD5b0i"
      },
      "execution_count": null,
      "outputs": []
    },
    {
      "cell_type": "code",
      "source": [
        "def lower(line):\n",
        "  return line.lower()"
      ],
      "metadata": {
        "id": "Qu28fWc7HRCA"
      },
      "execution_count": null,
      "outputs": []
    },
    {
      "cell_type": "code",
      "source": [
        "lower_text_RDD=raw.map(lower)"
      ],
      "metadata": {
        "id": "jNd8H8yLtGfd"
      },
      "execution_count": null,
      "outputs": []
    },
    {
      "cell_type": "code",
      "source": [
        "dataColl=lower_text_RDD.collect()\n",
        "for lines in dataColl:\n",
        "  print(lines)\n"
      ],
      "metadata": {
        "id": "-WuhCDXUKv1X"
      },
      "execution_count": null,
      "outputs": []
    },
    {
      "cell_type": "code",
      "source": [
        "print(lower_text_RDD.glom().collect())"
      ],
      "metadata": {
        "id": "hedhyDk6BCdK"
      },
      "execution_count": null,
      "outputs": []
    },
    {
      "cell_type": "code",
      "source": [
        "word_RDD = lower_text_RDD.flatMap(lambda line : line.split(\" \"))"
      ],
      "metadata": {
        "id": "jOxxuqzXMIgb"
      },
      "execution_count": null,
      "outputs": []
    },
    {
      "cell_type": "markdown",
      "source": [],
      "metadata": {
        "id": "9ggEXYCnSFA7"
      }
    },
    {
      "cell_type": "code",
      "source": [
        "print(word_RDD.glom().collect())"
      ],
      "metadata": {
        "id": "E7YI7Xn8BlCH"
      },
      "execution_count": null,
      "outputs": []
    },
    {
      "cell_type": "code",
      "source": [
        "col2=word_RDD.collect()\n",
        "for lines in col2:\n",
        "  print(lines)\n"
      ],
      "metadata": {
        "id": "F_vnCNeBOPgS"
      },
      "execution_count": null,
      "outputs": []
    },
    {
      "cell_type": "code",
      "source": [
        "#def first(line):\n",
        " # return line[0]\n",
        "first_RDD=word_RDD.map(lambda word : (word[0], 1))\n",
        "col3=first_RDD.collect()\n",
        "for lines in col3:\n",
        "  print(lines)\n"
      ],
      "metadata": {
        "id": "NO8GJVJVRcJ3"
      },
      "execution_count": null,
      "outputs": []
    },
    {
      "cell_type": "code",
      "source": [
        "sum = first_RDD.reduceByKey(lambda a, b: (a + b))\n",
        "for lines in sum.collect():\n",
        "  print(lines)"
      ],
      "metadata": {
        "id": "GuiLcRZCSP7Q"
      },
      "execution_count": null,
      "outputs": []
    },
    {
      "cell_type": "code",
      "source": [
        "counts = first_RDD.countByKey()\n",
        "print(counts)"
      ],
      "metadata": {
        "id": "yu1p7A33W4xJ"
      },
      "execution_count": null,
      "outputs": []
    },
    {
      "cell_type": "code",
      "source": [
        "wordsRDD=lower_text_RDD.filter(lambda x: x.startswith(('f','d','i')))\n",
        "col5=wordsRDD.collect()\n",
        "for lines in col5:\n",
        "  print(lines)\n"
      ],
      "metadata": {
        "id": "7zrP3TbaZ7nO"
      },
      "execution_count": null,
      "outputs": []
    },
    {
      "cell_type": "code",
      "source": [],
      "metadata": {
        "id": "umBuvxjGR6aQ"
      },
      "execution_count": null,
      "outputs": []
    },
    {
      "cell_type": "code",
      "source": [
        "sc.stop()"
      ],
      "metadata": {
        "id": "brk30c9fHznE"
      },
      "execution_count": null,
      "outputs": []
    },
    {
      "cell_type": "code",
      "source": [],
      "metadata": {
        "id": "cd35L_dyH0nz"
      },
      "execution_count": null,
      "outputs": []
    }
  ],
  "metadata": {
    "kernelspec": {
      "display_name": "Python 3",
      "language": "python",
      "name": "python3"
    },
    "language_info": {
      "codemirror_mode": {
        "name": "ipython",
        "version": 3
      },
      "file_extension": ".py",
      "mimetype": "text/x-python",
      "name": "python",
      "nbconvert_exporter": "python",
      "pygments_lexer": "ipython3",
      "version": "3.5.1"
    },
    "colab": {
      "provenance": [],
      "include_colab_link": true
    }
  },
  "nbformat": 4,
  "nbformat_minor": 0
}