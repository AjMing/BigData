{
  "nbformat": 4,
  "nbformat_minor": 0,
  "metadata": {
    "colab": {
      "provenance": []
    },
    "kernelspec": {
      "display_name": "Python 3",
      "language": "python",
      "name": "python3"
    }
  },
  "cells": [
    {
      "cell_type": "markdown",
      "metadata": {
        "id": "z6nmrzfEMkE2"
      },
      "source": [
        "# First steps with MongoDB and PyMongo\n",
        "\n",
        "\n",
        "*   Connection to Mongo\n",
        "*   Basic database, collection management\n",
        "*   CRUD  one document\n",
        "*   CRUD  many documents\n",
        "\n",
        "\n",
        "\n"
      ]
    },
    {
      "cell_type": "markdown",
      "metadata": {
        "id": "vM6ta952S2z2"
      },
      "source": [
        "# 1. Install PyMongo (if required)"
      ]
    },
    {
      "cell_type": "code",
      "source": [
        "!curl ipecho.net/plain"
      ],
      "metadata": {
        "id": "nsPO6rWU6uFc",
        "outputId": "c10b0480-770a-44c0-b8e9-59e6272ef35a",
        "colab": {
          "base_uri": "https://localhost:8080/"
        }
      },
      "execution_count": 1,
      "outputs": [
        {
          "output_type": "stream",
          "name": "stdout",
          "text": [
            "35.221.13.185"
          ]
        }
      ]
    },
    {
      "cell_type": "code",
      "metadata": {
        "id": "fpS_a7o_FCVj",
        "outputId": "4054bb01-4ab9-4780-8735-776da3169ee0",
        "colab": {
          "base_uri": "https://localhost:8080/"
        }
      },
      "source": [
        "# Instaling PyMongo, this is the interface to connect to MongoDB with Python\n",
        "! python -m pip install \"pymongo[srv]\"==3.11"
      ],
      "execution_count": 2,
      "outputs": [
        {
          "output_type": "stream",
          "name": "stdout",
          "text": [
            "Requirement already satisfied: pymongo[srv]==3.11 in /usr/local/lib/python3.10/dist-packages (3.11.0)\n",
            "Requirement already satisfied: dnspython<2.0.0,>=1.16.0 in /usr/local/lib/python3.10/dist-packages (from pymongo[srv]==3.11) (1.16.0)\n"
          ]
        }
      ]
    },
    {
      "cell_type": "code",
      "source": [
        "! pip  install pymongo[srv,tls]\n",
        "! pip install dnspython\n",
        "\n"
      ],
      "metadata": {
        "id": "218eUZc6uuYM",
        "outputId": "24eb2440-a00e-4ac6-d43d-abc5d8132e62",
        "colab": {
          "base_uri": "https://localhost:8080/"
        }
      },
      "execution_count": 3,
      "outputs": [
        {
          "output_type": "stream",
          "name": "stdout",
          "text": [
            "Requirement already satisfied: pymongo[srv,tls] in /usr/local/lib/python3.10/dist-packages (3.11.0)\n",
            "Requirement already satisfied: dnspython<2.0.0,>=1.16.0 in /usr/local/lib/python3.10/dist-packages (from pymongo[srv,tls]) (1.16.0)\n",
            "Requirement already satisfied: dnspython in /usr/local/lib/python3.10/dist-packages (1.16.0)\n"
          ]
        }
      ]
    },
    {
      "cell_type": "markdown",
      "metadata": {
        "id": "_YlhIPRViedz"
      },
      "source": [
        "#2. Import PyMongo and establish connection\n"
      ]
    },
    {
      "cell_type": "code",
      "source": [
        "from pymongo.mongo_client import MongoClient\n",
        "uri = \"mongodb+srv://<username>:<password>@cluster0.ac197n1.mongodb.net/?retryWrites=true&w=majority&appName=Cluster0\"\n",
        "# Create a new client and connect to the server\n",
        "client = MongoClient(uri)\n",
        "# Send a ping to confirm a successful connection\n",
        "try:\n",
        "    client.admin.command('ping')\n",
        "    print(\"Pinged your deployment. You successfully connected to MongoDB!\")\n",
        "except Exception as e:\n",
        "    print(e)\n",
        "\n"
      ],
      "metadata": {
        "colab": {
          "base_uri": "https://localhost:8080/"
        },
        "id": "DHjVYz_xhMU7",
        "outputId": "7fc0ec7a-7dd8-43b6-da9a-a4be5e5d4d76"
      },
      "execution_count": 4,
      "outputs": [
        {
          "output_type": "stream",
          "name": "stdout",
          "text": [
            "Pinged your deployment. You successfully connected to MongoDB!\n"
          ]
        }
      ]
    },
    {
      "cell_type": "code",
      "metadata": {
        "id": "ubueXR4Ddn9v",
        "colab": {
          "base_uri": "https://localhost:8080/"
        },
        "outputId": "77f58c1d-5882-4fc2-dc36-4f51137b4961"
      },
      "source": [
        "\n",
        "client.stats                                # .stats  show details about the client"
      ],
      "execution_count": 5,
      "outputs": [
        {
          "output_type": "execute_result",
          "data": {
            "text/plain": [
              "Database(MongoClient(host=['ac-xaccodh-shard-00-02.ac197n1.mongodb.net:27017', 'ac-xaccodh-shard-00-01.ac197n1.mongodb.net:27017', 'ac-xaccodh-shard-00-00.ac197n1.mongodb.net:27017'], document_class=dict, tz_aware=False, connect=True, retrywrites=True, w='majority', appname='Cluster0', authsource='admin', replicaset='atlas-7ij0jd-shard-0', ssl=True), 'stats')"
            ]
          },
          "metadata": {},
          "execution_count": 5
        }
      ]
    },
    {
      "cell_type": "code",
      "source": [
        "SampleDb=client.Bakery\n"
      ],
      "metadata": {
        "id": "i93j6pBj1Cy2"
      },
      "execution_count": 6,
      "outputs": []
    },
    {
      "cell_type": "code",
      "source": [
        "SampleDb.list_collection_names()"
      ],
      "metadata": {
        "id": "Xs_GfOXp0u2V",
        "colab": {
          "base_uri": "https://localhost:8080/"
        },
        "outputId": "349580da-c0a6-4e97-ecb5-ad9ba4053f76"
      },
      "execution_count": 7,
      "outputs": [
        {
          "output_type": "execute_result",
          "data": {
            "text/plain": [
              "['comments', 'Cake']"
            ]
          },
          "metadata": {},
          "execution_count": 7
        }
      ]
    },
    {
      "cell_type": "markdown",
      "metadata": {
        "id": "lyXw-8I8SN6m"
      },
      "source": [
        "# #3. Basic Collection management operations"
      ]
    },
    {
      "cell_type": "code",
      "source": [
        "# Show existing database names\n",
        "\n",
        "client.list_database_names()"
      ],
      "metadata": {
        "id": "ftiHVz-B3tcv",
        "colab": {
          "base_uri": "https://localhost:8080/"
        },
        "outputId": "8fe79eb2-6ce5-46cf-eae3-c31e2970ce24"
      },
      "execution_count": 8,
      "outputs": [
        {
          "output_type": "execute_result",
          "data": {
            "text/plain": [
              "['Bakery', 'admin', 'local']"
            ]
          },
          "metadata": {},
          "execution_count": 8
        }
      ]
    },
    {
      "cell_type": "code",
      "source": [
        "SamplecaDb = client.cookies"
      ],
      "metadata": {
        "id": "sYYJToxr3yMb"
      },
      "execution_count": 9,
      "outputs": []
    },
    {
      "cell_type": "code",
      "source": [
        "SampleDb.list_collection_names()"
      ],
      "metadata": {
        "colab": {
          "base_uri": "https://localhost:8080/"
        },
        "id": "Q1NzGojQhvrJ",
        "outputId": "e1856339-6494-43c1-fdfa-eca154c668aa"
      },
      "execution_count": 11,
      "outputs": [
        {
          "output_type": "execute_result",
          "data": {
            "text/plain": [
              "['comments', 'Cake']"
            ]
          },
          "metadata": {},
          "execution_count": 11
        }
      ]
    },
    {
      "cell_type": "code",
      "source": [
        "# Delete a database\n",
        "#client.drop_database('s6413333')"
      ],
      "metadata": {
        "id": "E5TGc5r-36SB"
      },
      "execution_count": null,
      "outputs": []
    },
    {
      "cell_type": "code",
      "metadata": {
        "id": "A36LiAA5SBCc",
        "colab": {
          "base_uri": "https://localhost:8080/"
        },
        "outputId": "3bc76f0f-c7cf-4e27-84ab-f6afd4b22360"
      },
      "source": [
        "# Create a new collection. We can create the collection or leave to MongoDB to create it as soon as a document is generated.\n",
        "# SampleDb.drop_collection('adressbook')\n",
        "SampleDb.create_collection('adressbook')       # Optional collection creation"
      ],
      "execution_count": null,
      "outputs": [
        {
          "output_type": "execute_result",
          "data": {
            "text/plain": [
              "Collection(Database(MongoClient(host=['ac-waxjjtl-shard-00-00.8dqygz0.mongodb.net:27017', 'ac-waxjjtl-shard-00-01.8dqygz0.mongodb.net:27017', 'ac-waxjjtl-shard-00-02.8dqygz0.mongodb.net:27017'], document_class=dict, tz_aware=False, connect=True, authsource='admin', replicaset='atlas-o795ys-shard-0', ssl=True, retrywrites=True, w='majority'), 'Bakery'), 'adressbook')"
            ]
          },
          "metadata": {},
          "execution_count": 11
        }
      ]
    },
    {
      "cell_type": "code",
      "source": [
        "client.list_database_names()"
      ],
      "metadata": {
        "id": "CfXic9yqItD8",
        "colab": {
          "base_uri": "https://localhost:8080/"
        },
        "outputId": "53c0f97f-1c17-4107-9fc9-77d8ebd173b5"
      },
      "execution_count": null,
      "outputs": [
        {
          "output_type": "execute_result",
          "data": {
            "text/plain": [
              "['Bakery', 'admin', 'local']"
            ]
          },
          "metadata": {},
          "execution_count": 14
        }
      ]
    },
    {
      "cell_type": "code",
      "metadata": {
        "id": "yPp8ExezHvhJ",
        "colab": {
          "base_uri": "https://localhost:8080/"
        },
        "outputId": "c95709e3-3a07-4ffd-c73e-a1deb6ac85fb"
      },
      "source": [
        "# Show Collections. Query returns a Cursor [ ] ,  list it to see the content\n",
        "list (SampleDb.list_collections())\n",
        "# empty list '[]' means that there are not collections in database"
      ],
      "execution_count": null,
      "outputs": [
        {
          "output_type": "execute_result",
          "data": {
            "text/plain": [
              "[{'name': 'cakes',\n",
              "  'type': 'collection',\n",
              "  'options': {},\n",
              "  'info': {'readOnly': False,\n",
              "   'uuid': UUID('31e0f297-cdfb-4e3e-bccc-4fa0599eef27')},\n",
              "  'idIndex': {'v': 2, 'key': {'_id': 1}, 'name': '_id_'}},\n",
              " {'name': 'comments',\n",
              "  'type': 'collection',\n",
              "  'options': {},\n",
              "  'info': {'readOnly': False,\n",
              "   'uuid': UUID('b00923f8-9793-407b-b747-2dfa65e9006d')},\n",
              "  'idIndex': {'v': 2, 'key': {'_id': 1}, 'name': '_id_'}},\n",
              " {'name': 'adressbook',\n",
              "  'type': 'collection',\n",
              "  'options': {},\n",
              "  'info': {'readOnly': False,\n",
              "   'uuid': UUID('f4eb782c-7df7-4047-8e90-c72d1c89a774')},\n",
              "  'idIndex': {'v': 2, 'key': {'_id': 1}, 'name': '_id_'}}]"
            ]
          },
          "metadata": {},
          "execution_count": 15
        }
      ]
    },
    {
      "cell_type": "code",
      "metadata": {
        "id": "v81uy9ySFCV5",
        "colab": {
          "base_uri": "https://localhost:8080/"
        },
        "outputId": "7855ed90-9908-45c0-9be3-b880587b0831"
      },
      "source": [
        "# Set the collection to work with\n",
        "collection = SampleDb.adressbook\n",
        "collection.insert_one({'name' : 'Nitiphoom'})     # Insert one item to create the collection\n",
        "list (collection.find())                  # Show the existing collections"
      ],
      "execution_count": null,
      "outputs": [
        {
          "output_type": "execute_result",
          "data": {
            "text/plain": [
              "[{'_id': ObjectId('641c0b519aabdd00e93d7aab'), 'name': 'Nitiphoom'}]"
            ]
          },
          "metadata": {},
          "execution_count": 16
        }
      ]
    },
    {
      "cell_type": "code",
      "metadata": {
        "id": "_LDPtPcFTPC0",
        "colab": {
          "base_uri": "https://localhost:8080/"
        },
        "outputId": "63a01e6c-0a32-471f-cd74-1805c467cbcc"
      },
      "source": [
        "# Rename a collections\n",
        "SampleDb.adressbook.rename('address')\n",
        "collection = SampleDb.address                   # Set the collection to work with\n",
        "list (SampleDb.list_collections())                  # Show the existing collections"
      ],
      "execution_count": null,
      "outputs": [
        {
          "output_type": "execute_result",
          "data": {
            "text/plain": [
              "[{'name': 'cakes',\n",
              "  'type': 'collection',\n",
              "  'options': {},\n",
              "  'info': {'readOnly': False,\n",
              "   'uuid': UUID('31e0f297-cdfb-4e3e-bccc-4fa0599eef27')},\n",
              "  'idIndex': {'v': 2, 'key': {'_id': 1}, 'name': '_id_'}},\n",
              " {'name': 'comments',\n",
              "  'type': 'collection',\n",
              "  'options': {},\n",
              "  'info': {'readOnly': False,\n",
              "   'uuid': UUID('b00923f8-9793-407b-b747-2dfa65e9006d')},\n",
              "  'idIndex': {'v': 2, 'key': {'_id': 1}, 'name': '_id_'}},\n",
              " {'name': 'address',\n",
              "  'type': 'collection',\n",
              "  'options': {},\n",
              "  'info': {'readOnly': False,\n",
              "   'uuid': UUID('f4eb782c-7df7-4047-8e90-c72d1c89a774')},\n",
              "  'idIndex': {'v': 2, 'key': {'_id': 1}, 'name': '_id_'}}]"
            ]
          },
          "metadata": {},
          "execution_count": 17
        }
      ]
    },
    {
      "cell_type": "code",
      "metadata": {
        "id": "auhUMnXQHng8",
        "colab": {
          "base_uri": "https://localhost:8080/"
        },
        "outputId": "7fc33da2-0363-4429-bec8-57425850239e"
      },
      "source": [
        "# Delete collection\n",
        "SampleDb.drop_collection('address')"
      ],
      "execution_count": null,
      "outputs": [
        {
          "output_type": "execute_result",
          "data": {
            "text/plain": [
              "{'nIndexesWas': 1,\n",
              " 'ns': 'Bakery.address',\n",
              " 'ok': 1.0,\n",
              " '$clusterTime': {'clusterTime': Timestamp(1679559578, 37),\n",
              "  'signature': {'hash': b'\\x9b\\xf2\\x08\\xa7\\x8c\\xee\\xc3\\xf5\\xad\\xb7m\\xcc6\\xc9\\xacG\\xc3\\xb3\\x10s',\n",
              "   'keyId': 7156242167491461122}},\n",
              " 'operationTime': Timestamp(1679559578, 37)}"
            ]
          },
          "metadata": {},
          "execution_count": 18
        }
      ]
    },
    {
      "cell_type": "markdown",
      "source": [
        "# 4 Simple Crud Operation"
      ],
      "metadata": {
        "id": "x9GjbyDZIv8r"
      }
    },
    {
      "cell_type": "code",
      "source": [
        "# Set the collection to work with\n",
        "user = SampleDb.user\n",
        "user.insert_one({'firstName' : 'John',\n",
        "                 'lastName': 'Doe',\n",
        "                 'email': 'john.doe@mahidol.edu',\n",
        "                 'id':  6082111 } )     # Insert one item to create the collection\n",
        "list (user.find())"
      ],
      "metadata": {
        "id": "AYqQ8S0tI6XV",
        "colab": {
          "base_uri": "https://localhost:8080/"
        },
        "outputId": "30932b53-2a8b-4bfc-da5d-d459d815cf15"
      },
      "execution_count": null,
      "outputs": [
        {
          "output_type": "execute_result",
          "data": {
            "text/plain": [
              "[{'_id': ObjectId('641c0bd89aabdd00e93d7aac'),\n",
              "  'firstName': 'John',\n",
              "  'lastName': 'Doe',\n",
              "  'email': 'john.doe@mahidol.edu',\n",
              "  'id': 6082111}]"
            ]
          },
          "metadata": {},
          "execution_count": 19
        }
      ]
    },
    {
      "cell_type": "code",
      "metadata": {
        "id": "y5TvGradhcu6"
      },
      "source": [
        "#@title Contact\n",
        "\n",
        "Name = \"Oldie\" #@param {type:\"string\"}\n",
        "Age = 30 #@param {type:\"slider\", min:10, max:80, step:1}\n",
        "Gender = \"Male\" #@param [\"Male\", \"Female\"]\n",
        "Likes_Python = \"No\" #@param [\"Yes\", \"No\"]\n",
        "if Likes_Python == \"Yes\":\n",
        "  Likes_Python = True\n",
        "else:\n",
        "  Likes_Python = False\n",
        "\n",
        "\n",
        "#@markdown Address\n",
        "Street = \"Phuttamonthon\" #@param {type:\"string\"}\n",
        "Number = 999 #@param {type:\"integer\"}\n",
        "City = \"Nakhorn Pathom\" #@param {type:\"string\"}\n",
        "PostalCode = \"73170\" #@param {type:\"string\"}"
      ],
      "execution_count": null,
      "outputs": []
    },
    {
      "cell_type": "markdown",
      "metadata": {
        "id": "oseJcRsuCr62"
      },
      "source": [
        "### **4.1**.2 Create a document with:  insert_one()"
      ]
    },
    {
      "cell_type": "code",
      "source": [
        "data = {  'firstName' : Name ,                                    # String\n",
        "          'age' : Age,                                       # Integer\n",
        "          'gender' : Gender,                                 # String\n",
        "          'likes_python' : Likes_Python,                     # Boolean\n",
        "          'address': {\n",
        "              'street' : Street,                             # String ( special character with escape \\ )\n",
        "              'number' : Number,                             # Integer\n",
        "              'city' : City,                                 # String\n",
        "              'floor' : None,                                # Null\n",
        "              'postalcode' : PostalCode,                     # String containing a number\n",
        "              },\n",
        "          'favouriteFruits': ['banana','pineapple','orange'] # Array\n",
        "       }\n",
        "\n",
        "insert_result = user.insert_one( data)"
      ],
      "metadata": {
        "id": "Gm-r0hP9_FjY"
      },
      "execution_count": null,
      "outputs": []
    },
    {
      "cell_type": "markdown",
      "metadata": {
        "id": "sHEjFxlnpNjH"
      },
      "source": [
        "To insert a document can be done using: insert_one and JavaScript notation  { 'attributeName1'  :  'content1', 'attributeName2'  :  'content2', ... }\n"
      ]
    },
    {
      "cell_type": "code",
      "metadata": {
        "id": "BpNu_5ic6J1m",
        "colab": {
          "base_uri": "https://localhost:8080/"
        },
        "outputId": "1d4692e4-25c1-4668-8d78-fb3827da54c0"
      },
      "source": [
        "insert_result.acknowledged    # Confirms that insert is successful"
      ],
      "execution_count": null,
      "outputs": [
        {
          "output_type": "execute_result",
          "data": {
            "text/plain": [
              "True"
            ]
          },
          "metadata": {},
          "execution_count": 24
        }
      ]
    },
    {
      "cell_type": "code",
      "metadata": {
        "id": "gg370PIV6UZa",
        "colab": {
          "base_uri": "https://localhost:8080/"
        },
        "outputId": "37f963f3-273d-489f-be94-d1d5339fbfcc"
      },
      "source": [
        "insert_result.inserted_id     # Shows the document ID"
      ],
      "execution_count": null,
      "outputs": [
        {
          "output_type": "execute_result",
          "data": {
            "text/plain": [
              "ObjectId('641c0c7d9aabdd00e93d7aae')"
            ]
          },
          "metadata": {},
          "execution_count": 26
        }
      ]
    },
    {
      "cell_type": "markdown",
      "metadata": {
        "id": "sDpl7VnP1VWG"
      },
      "source": [
        "###4.1.2 Read document with:  find()"
      ]
    },
    {
      "cell_type": "markdown",
      "metadata": {
        "id": "MZvVOfqh5_hv"
      },
      "source": [
        "To read a document can be done using: find and JavaScript notation  {  'attribute1 containing the key'  :  'key1 to find' }\n"
      ]
    },
    {
      "cell_type": "code",
      "metadata": {
        "id": "LNhnVqL7C6L5",
        "colab": {
          "base_uri": "https://localhost:8080/",
          "height": 141
        },
        "outputId": "b76dfbb5-8965-434e-f84c-ec3c28fbb6e2"
      },
      "source": [
        "list ( user.find() )                                      # gets all data of collection"
      ],
      "execution_count": null,
      "outputs": [
        {
          "output_type": "error",
          "ename": "NameError",
          "evalue": "name 'user' is not defined",
          "traceback": [
            "\u001b[0;31m---------------------------------------------------------------------------\u001b[0m",
            "\u001b[0;31mNameError\u001b[0m                                 Traceback (most recent call last)",
            "\u001b[0;32m<ipython-input-1-aa225ec0ce6d>\u001b[0m in \u001b[0;36m<cell line: 1>\u001b[0;34m()\u001b[0m\n\u001b[0;32m----> 1\u001b[0;31m \u001b[0mlist\u001b[0m \u001b[0;34m(\u001b[0m \u001b[0muser\u001b[0m\u001b[0;34m.\u001b[0m\u001b[0mfind\u001b[0m\u001b[0;34m(\u001b[0m\u001b[0;34m)\u001b[0m \u001b[0;34m)\u001b[0m                                      \u001b[0;31m# gets all data of collection\u001b[0m\u001b[0;34m\u001b[0m\u001b[0;34m\u001b[0m\u001b[0m\n\u001b[0m",
            "\u001b[0;31mNameError\u001b[0m: name 'user' is not defined"
          ]
        }
      ]
    },
    {
      "cell_type": "code",
      "metadata": {
        "id": "0OEJIWqw6hkw",
        "colab": {
          "base_uri": "https://localhost:8080/"
        },
        "outputId": "f3c8f20b-7128-49d8-d175-8497d2f7cde7"
      },
      "source": [
        "list ( user.find( {'_id' : insert_result.inserted_id } ))  # Find the inserted document using the objectID"
      ],
      "execution_count": null,
      "outputs": [
        {
          "output_type": "execute_result",
          "data": {
            "text/plain": [
              "[{'_id': ObjectId('641c0c7d9aabdd00e93d7aae'),\n",
              "  'firstName': 'Oldie',\n",
              "  'age': 30,\n",
              "  'gender': 'Male',\n",
              "  'likes_python': False,\n",
              "  'address': {'street': 'Phuttamonthon',\n",
              "   'number': 999,\n",
              "   'city': 'Nakhorn Pathom',\n",
              "   'floor': None,\n",
              "   'postalcode': '73170'},\n",
              "  'favouriteFruits': ['banana', 'pineapple', 'orange']}]"
            ]
          },
          "metadata": {},
          "execution_count": 28
        }
      ]
    },
    {
      "cell_type": "code",
      "metadata": {
        "id": "Rpy9H1SZ_eA0",
        "colab": {
          "base_uri": "https://localhost:8080/"
        },
        "outputId": "5235625e-fd9b-44cc-cfdb-7848bda5fd9e"
      },
      "source": [
        "list ( user.find( {'firstName' :{'$regex':'^Jo'}} ))                     # find, can use one key or more"
      ],
      "execution_count": null,
      "outputs": [
        {
          "output_type": "execute_result",
          "data": {
            "text/plain": [
              "[{'_id': ObjectId('641c0bd89aabdd00e93d7aac'),\n",
              "  'firstName': 'John',\n",
              "  'lastName': 'Doe',\n",
              "  'email': 'john.doe@mahidol.edu',\n",
              "  'id': 6082111}]"
            ]
          },
          "metadata": {},
          "execution_count": 29
        }
      ]
    },
    {
      "cell_type": "code",
      "metadata": {
        "id": "G2AAmVJcr1iz",
        "colab": {
          "base_uri": "https://localhost:8080/"
        },
        "outputId": "9496b557-fe2e-4174-9bd5-a1bfb6651777"
      },
      "source": [
        "list ( user.find( {'address.city' : City } ))             # find, can use one key or more"
      ],
      "execution_count": null,
      "outputs": [
        {
          "output_type": "execute_result",
          "data": {
            "text/plain": [
              "[{'_id': ObjectId('641a939278df7401356114f9'),\n",
              "  'firstName': 'Jordin',\n",
              "  'age': 20,\n",
              "  'gender': 'Male',\n",
              "  'likes_python': True,\n",
              "  'address': {'street': 'Phuttamonthon',\n",
              "   'number': 999,\n",
              "   'city': 'Nakhorn Pathom',\n",
              "   'floor': None,\n",
              "   'postalcode': '73170'},\n",
              "  'favouriteFruits': ['banana', 'pineapple', 'orange']}]"
            ]
          },
          "metadata": {},
          "execution_count": 42
        }
      ]
    },
    {
      "cell_type": "code",
      "metadata": {
        "id": "MDKSxbQQepBs",
        "colab": {
          "base_uri": "https://localhost:8080/"
        },
        "outputId": "2ab7803b-867d-4eab-a89f-4e9fa50615bb"
      },
      "source": [
        "list ( user.find().limit(1) )                             # gets a Limited set of documents"
      ],
      "execution_count": null,
      "outputs": [
        {
          "output_type": "execute_result",
          "data": {
            "text/plain": [
              "[{'_id': ObjectId('641a939278df7401356114f8'),\n",
              "  'firstName': 'John',\n",
              "  'lastName': 'Doe',\n",
              "  'email': 'john.doe@mahidol.edu',\n",
              "  'id': 6082111}]"
            ]
          },
          "metadata": {},
          "execution_count": 43
        }
      ]
    },
    {
      "cell_type": "code",
      "metadata": {
        "id": "hgbLrIeug1MX",
        "colab": {
          "base_uri": "https://localhost:8080/"
        },
        "outputId": "50ee2de8-2da4-4f2d-a951-c8a0d10151d8"
      },
      "source": [
        "list ( user.find().skip(1) )                              # gets all documents skipping first"
      ],
      "execution_count": null,
      "outputs": [
        {
          "output_type": "execute_result",
          "data": {
            "text/plain": [
              "[{'_id': ObjectId('641c0c579aabdd00e93d7aad'),\n",
              "  'firstName': 'Andy',\n",
              "  'age': 25,\n",
              "  'gender': 'Male',\n",
              "  'likes_python': True,\n",
              "  'address': {'street': 'Phuttamonthon',\n",
              "   'number': 999,\n",
              "   'city': 'Nakhorn Pathom',\n",
              "   'floor': None,\n",
              "   'postalcode': '73170'},\n",
              "  'favouriteFruits': ['banana', 'pineapple', 'orange']},\n",
              " {'_id': ObjectId('641c0c7d9aabdd00e93d7aae'),\n",
              "  'firstName': 'Oldie',\n",
              "  'age': 30,\n",
              "  'gender': 'Male',\n",
              "  'likes_python': False,\n",
              "  'address': {'street': 'Phuttamonthon',\n",
              "   'number': 999,\n",
              "   'city': 'Nakhorn Pathom',\n",
              "   'floor': None,\n",
              "   'postalcode': '73170'},\n",
              "  'favouriteFruits': ['banana', 'pineapple', 'orange']}]"
            ]
          },
          "metadata": {},
          "execution_count": 30
        }
      ]
    },
    {
      "cell_type": "markdown",
      "metadata": {
        "id": "cpMUuvEE1oIJ"
      },
      "source": [
        "###4.1.3 Update a document with:  update_one()"
      ]
    },
    {
      "cell_type": "code",
      "metadata": {
        "id": "g6CguWd411Fe",
        "colab": {
          "base_uri": "https://localhost:8080/"
        },
        "outputId": "4f3e771e-f3d6-48b9-f6b7-5541b2aefc2a"
      },
      "source": [
        "## Update an existing document\n",
        "update_result = user.update_one(\n",
        "    {'firstName' : 'John'},\n",
        "    {'$set' : { 'age' : 30 }} )\n",
        "\n",
        "list (user.find( {'firstName' : 'John'} ))\n",
        "\n",
        "# Alternative : collection.find_one_and_update( {'name' : Name}, {'$set' : { 'age' : 30 }} )"
      ],
      "execution_count": null,
      "outputs": [
        {
          "output_type": "execute_result",
          "data": {
            "text/plain": [
              "[{'_id': ObjectId('641c0bd89aabdd00e93d7aac'),\n",
              "  'firstName': 'John',\n",
              "  'lastName': 'Doe',\n",
              "  'email': 'john.doe@mahidol.edu',\n",
              "  'id': 6082111,\n",
              "  'age': 30}]"
            ]
          },
          "metadata": {},
          "execution_count": 31
        }
      ]
    },
    {
      "cell_type": "code",
      "metadata": {
        "id": "yFwE-Z-E8ENV",
        "colab": {
          "base_uri": "https://localhost:8080/"
        },
        "outputId": "695b2ed6-2d0a-4dbf-ee62-7c1856df8df1"
      },
      "source": [
        "update_result.raw_result"
      ],
      "execution_count": null,
      "outputs": [
        {
          "output_type": "execute_result",
          "data": {
            "text/plain": [
              "{'n': 1,\n",
              " 'electionId': ObjectId('7fffffff000000000000033d'),\n",
              " 'opTime': {'ts': Timestamp(1679463315, 20), 't': 829},\n",
              " 'nModified': 1,\n",
              " 'ok': 1.0,\n",
              " '$clusterTime': {'clusterTime': Timestamp(1679463315, 20),\n",
              "  'signature': {'hash': b'\\xb2\\x8d\\xd4\\xa4\\xfaQ\\xcaA\\x80JZ\\xe28R\\xab\\x96V\\xb4\\x16\\xfa',\n",
              "   'keyId': 7160395748759044098}},\n",
              " 'operationTime': Timestamp(1679463315, 20),\n",
              " 'updatedExisting': True}"
            ]
          },
          "metadata": {},
          "execution_count": 46
        }
      ]
    },
    {
      "cell_type": "code",
      "metadata": {
        "id": "taXdk9u58WVc",
        "colab": {
          "base_uri": "https://localhost:8080/"
        },
        "outputId": "eef21ffc-9b05-4782-ef04-3163529cd4ad"
      },
      "source": [
        "## Insert a new document with update, will avoid to crash during insert if document already exist\n",
        "insert_result = collection.update_one( {'name' : 'Javi Gonzalez'}, {'$set' : { 'age' : 30 }}, upsert= True )\n",
        "list (collection.find( {'name' : 'Javi Gonzalez'} ))"
      ],
      "execution_count": null,
      "outputs": [
        {
          "output_type": "execute_result",
          "data": {
            "text/plain": [
              "[{'_id': ObjectId('641a9393fdb242ace3fc68c7'),\n",
              "  'name': 'Javi Gonzalez',\n",
              "  'age': 30}]"
            ]
          },
          "metadata": {},
          "execution_count": 47
        }
      ]
    },
    {
      "cell_type": "code",
      "metadata": {
        "id": "ogsKmIUK8xZ6",
        "colab": {
          "base_uri": "https://localhost:8080/"
        },
        "outputId": "0616c026-fd18-4e1d-fc9d-d50bc8bb3639"
      },
      "source": [
        "update_result.acknowledged"
      ],
      "execution_count": null,
      "outputs": [
        {
          "output_type": "execute_result",
          "data": {
            "text/plain": [
              "True"
            ]
          },
          "metadata": {},
          "execution_count": 48
        }
      ]
    },
    {
      "cell_type": "markdown",
      "metadata": {
        "id": "7RcNmDunUN4a"
      },
      "source": [
        "###4.1.4 Delete a document with:  delete_one()"
      ]
    },
    {
      "cell_type": "code",
      "metadata": {
        "id": "4P-hs1KYTkSE"
      },
      "source": [
        "delete = user.delete_one({'firstName': 'John'})"
      ],
      "execution_count": null,
      "outputs": []
    },
    {
      "cell_type": "code",
      "metadata": {
        "id": "kTkAUmagmirT",
        "colab": {
          "base_uri": "https://localhost:8080/"
        },
        "outputId": "d5e24959-49dc-41ad-cfba-1db1c62f44be"
      },
      "source": [
        "user.deleted_count   # informs that 1 document has been deleted"
      ],
      "execution_count": null,
      "outputs": [
        {
          "output_type": "execute_result",
          "data": {
            "text/plain": [
              "Collection(Database(MongoClient(host=['ac-waxjjtl-shard-00-00.8dqygz0.mongodb.net:27017', 'ac-waxjjtl-shard-00-01.8dqygz0.mongodb.net:27017', 'ac-waxjjtl-shard-00-02.8dqygz0.mongodb.net:27017'], document_class=dict, tz_aware=False, connect=True, authsource='admin', replicaset='atlas-o795ys-shard-0', ssl=True, retrywrites=True, w='majority'), 'Bakery'), 'user.deleted_count')"
            ]
          },
          "metadata": {},
          "execution_count": 36
        }
      ]
    },
    {
      "cell_type": "code",
      "metadata": {
        "id": "4KW9g0CK9cSQ",
        "colab": {
          "base_uri": "https://localhost:8080/"
        },
        "outputId": "f8827de2-4443-4c1f-f463-e2c6b8bd6dba"
      },
      "source": [
        "user.delete_one({'name': Name})"
      ],
      "execution_count": null,
      "outputs": [
        {
          "output_type": "execute_result",
          "data": {
            "text/plain": [
              "<pymongo.results.DeleteResult at 0x7f5bca380ac0>"
            ]
          },
          "metadata": {},
          "execution_count": 35
        }
      ]
    },
    {
      "cell_type": "markdown",
      "metadata": {
        "id": "-_XeMAc99y0M"
      },
      "source": [
        "##4.2 Create Read Update Delete  (many document)"
      ]
    },
    {
      "cell_type": "markdown",
      "metadata": {
        "id": "KlWjFIiJ-zik"
      },
      "source": [
        "###4.2.1 Create a document with:  insert_many()"
      ]
    },
    {
      "cell_type": "markdown",
      "metadata": {
        "id": "COlmggkW-wPt"
      },
      "source": [
        "To insert many documents can be done using: insert_many and JavaScript notation  { 'attributeDocument1'  :  'content1' } , { 'attributeDocument2'  :  'content2'},{ ... }"
      ]
    },
    {
      "cell_type": "code",
      "metadata": {
        "id": "E4jl1K7t98Io",
        "colab": {
          "base_uri": "https://localhost:8080/"
        },
        "outputId": "a044fb06-ed4b-4350-846d-ead27793358f"
      },
      "source": [
        "import datetime\n",
        "user.insert_many(  [                          # <---- start a list with [\n",
        "##  Insert Document 1\n",
        "  {\n",
        "  'name': 'Jordi Gonzalez',\n",
        "  'age': 25,\n",
        "  'likes_python': True,\n",
        "  'registered': datetime.datetime(2015, 2, 11, 4, 22, 39),\n",
        "  'address': {\n",
        "      'street': 'Torrent de l\\'Olla',\n",
        "      'number': 70,\n",
        "      'floor': None,\n",
        "      'city': 'Barcelona',\n",
        "      'postalCode': '08012'\n",
        "             },\n",
        "  'height':  1.72,\n",
        "  'favouriteFruits': ['banana','pineapple','orange']\n",
        "  },\n",
        "\n",
        "##  Insert Document 2\n",
        "  {\n",
        "  'name': 'Maria Smith',\n",
        "  'age': 30,\n",
        "  'likes_python': True,\n",
        "  'registered': datetime.datetime(2016, 4, 23, 7, 34, 12),\n",
        "  'address': {\n",
        "      'street': 'Numancia',\n",
        "                                                     ##  missing number\n",
        "                                                     ##  missing floor\n",
        "      'city': 'Barcelona',\n",
        "      'postalCode': '08029'\n",
        "             },\n",
        "  'height':  1.56,\n",
        "  'favouriteFruits': ['lemon','pineapple']\n",
        "  }\n",
        "  ]   )                                                   # <---- finalize the list ]"
      ],
      "execution_count": null,
      "outputs": [
        {
          "output_type": "execute_result",
          "data": {
            "text/plain": [
              "<pymongo.results.InsertManyResult at 0x7f5bc97f3500>"
            ]
          },
          "metadata": {},
          "execution_count": 37
        }
      ]
    },
    {
      "cell_type": "markdown",
      "metadata": {
        "id": "Qo2iHN59ABf4"
      },
      "source": [
        "###4.2.2 Read many documents with:  find()"
      ]
    },
    {
      "cell_type": "code",
      "source": [
        "list(user.find())"
      ],
      "metadata": {
        "id": "7B2-qCO5kF8I",
        "colab": {
          "base_uri": "https://localhost:8080/"
        },
        "outputId": "791becf8-ea27-4db7-cac9-710a3cf41cf0"
      },
      "execution_count": null,
      "outputs": [
        {
          "output_type": "execute_result",
          "data": {
            "text/plain": [
              "[{'_id': ObjectId('641c0c579aabdd00e93d7aad'),\n",
              "  'firstName': 'Andy',\n",
              "  'age': 25,\n",
              "  'gender': 'Male',\n",
              "  'likes_python': True,\n",
              "  'address': {'street': 'Phuttamonthon',\n",
              "   'number': 999,\n",
              "   'city': 'Nakhorn Pathom',\n",
              "   'floor': None,\n",
              "   'postalcode': '73170'},\n",
              "  'favouriteFruits': ['banana', 'pineapple', 'orange']},\n",
              " {'_id': ObjectId('641c0c7d9aabdd00e93d7aae'),\n",
              "  'firstName': 'Oldie',\n",
              "  'age': 30,\n",
              "  'gender': 'Male',\n",
              "  'likes_python': False,\n",
              "  'address': {'street': 'Phuttamonthon',\n",
              "   'number': 999,\n",
              "   'city': 'Nakhorn Pathom',\n",
              "   'floor': None,\n",
              "   'postalcode': '73170'},\n",
              "  'favouriteFruits': ['banana', 'pineapple', 'orange']},\n",
              " {'_id': ObjectId('641c0e519aabdd00e93d7aaf'),\n",
              "  'name': 'Jordi Gonzalez',\n",
              "  'age': 25,\n",
              "  'likes_python': True,\n",
              "  'registered': datetime.datetime(2015, 2, 11, 4, 22, 39),\n",
              "  'address': {'street': \"Torrent de l'Olla\",\n",
              "   'number': 70,\n",
              "   'floor': None,\n",
              "   'city': 'Barcelona',\n",
              "   'postalCode': '08012'},\n",
              "  'height': 1.72,\n",
              "  'favouriteFruits': ['banana', 'pineapple', 'orange']},\n",
              " {'_id': ObjectId('641c0e519aabdd00e93d7ab0'),\n",
              "  'name': 'Maria Smith',\n",
              "  'age': 30,\n",
              "  'likes_python': True,\n",
              "  'registered': datetime.datetime(2016, 4, 23, 7, 34, 12),\n",
              "  'address': {'street': 'Numancia',\n",
              "   'city': 'Barcelona',\n",
              "   'postalCode': '08029'},\n",
              "  'height': 1.56,\n",
              "  'favouriteFruits': ['lemon', 'pineapple']}]"
            ]
          },
          "metadata": {},
          "execution_count": 38
        }
      ]
    },
    {
      "cell_type": "markdown",
      "metadata": {
        "id": "qTMRRStMABgH"
      },
      "source": [
        "To read a document can be done using: find and JavaScript notation  {  'attribute1 containing the key'  :  'key1 to find' }\n"
      ]
    },
    {
      "cell_type": "code",
      "metadata": {
        "id": "ka-1_6poABgS",
        "colab": {
          "base_uri": "https://localhost:8080/"
        },
        "outputId": "254b481f-275a-4615-f2db-b2b6434163aa"
      },
      "source": [
        "list ( user.find( {'$or': [ {'name': 'Jordi Gonzalez'},{'name': 'Maria Smith'} ]}))        # find"
      ],
      "execution_count": null,
      "outputs": [
        {
          "output_type": "execute_result",
          "data": {
            "text/plain": [
              "[{'_id': ObjectId('641a939478df7401356114fa'),\n",
              "  'name': 'Jordi Gonzalez',\n",
              "  'age': 25,\n",
              "  'likes_python': True,\n",
              "  'registered': datetime.datetime(2015, 2, 11, 4, 22, 39),\n",
              "  'address': {'street': \"Torrent de l'Olla\",\n",
              "   'number': 70,\n",
              "   'floor': None,\n",
              "   'city': 'Barcelona',\n",
              "   'postalCode': '08012'},\n",
              "  'height': 1.72,\n",
              "  'favouriteFruits': ['banana', 'pineapple', 'orange']},\n",
              " {'_id': ObjectId('641a939478df7401356114fb'),\n",
              "  'name': 'Maria Smith',\n",
              "  'age': 30,\n",
              "  'likes_python': True,\n",
              "  'registered': datetime.datetime(2016, 4, 23, 7, 34, 12),\n",
              "  'address': {'street': 'Numancia',\n",
              "   'city': 'Barcelona',\n",
              "   'postalCode': '08029'},\n",
              "  'height': 1.56,\n",
              "  'favouriteFruits': ['lemon', 'pineapple']}]"
            ]
          },
          "metadata": {},
          "execution_count": 54
        }
      ]
    },
    {
      "cell_type": "markdown",
      "metadata": {
        "id": "0KAltbIoFB7n"
      },
      "source": [
        "###4.2.3 Update many documents with:  update_many()"
      ]
    },
    {
      "cell_type": "code",
      "metadata": {
        "id": "rh46eDULFB77",
        "colab": {
          "base_uri": "https://localhost:8080/"
        },
        "outputId": "09fb9a5a-7735-4fcf-8f27-f783d437ecec"
      },
      "source": [
        "collection.update_many( {'isActive': True }, {'$set' : { 'isActive': False }} )\n",
        "list (collection.find( ))                                  # List all documents"
      ],
      "execution_count": null,
      "outputs": [
        {
          "output_type": "execute_result",
          "data": {
            "text/plain": [
              "[]"
            ]
          },
          "metadata": {},
          "execution_count": 39
        }
      ]
    },
    {
      "cell_type": "markdown",
      "metadata": {
        "id": "pmjc4qMBFB8i"
      },
      "source": [
        "###4.2.4 Delete many documents with:  delete_many()"
      ]
    },
    {
      "cell_type": "code",
      "metadata": {
        "id": "QPwUlKMkUJyi",
        "colab": {
          "base_uri": "https://localhost:8080/"
        },
        "outputId": "3ee3b137-5d0a-4e44-f010-34329ff3d667"
      },
      "source": [
        "delete = user.delete_many({'likes_python': True})    # deletes as many documents as the filter\n",
        "list (user.find( ))                                  # List all documents"
      ],
      "execution_count": null,
      "outputs": [
        {
          "output_type": "execute_result",
          "data": {
            "text/plain": [
              "[{'_id': ObjectId('641c0c7d9aabdd00e93d7aae'),\n",
              "  'firstName': 'Oldie',\n",
              "  'age': 30,\n",
              "  'gender': 'Male',\n",
              "  'likes_python': False,\n",
              "  'address': {'street': 'Phuttamonthon',\n",
              "   'number': 999,\n",
              "   'city': 'Nakhorn Pathom',\n",
              "   'floor': None,\n",
              "   'postalcode': '73170'},\n",
              "  'favouriteFruits': ['banana', 'pineapple', 'orange']}]"
            ]
          },
          "metadata": {},
          "execution_count": 40
        }
      ]
    },
    {
      "cell_type": "code",
      "metadata": {
        "id": "mF8jFSc4m44q",
        "colab": {
          "base_uri": "https://localhost:8080/"
        },
        "outputId": "7fcc8ffc-3814-4116-ae6c-9589f69f57a8"
      },
      "source": [
        "delete.deleted_count   # items deleted"
      ],
      "execution_count": null,
      "outputs": [
        {
          "output_type": "execute_result",
          "data": {
            "text/plain": [
              "3"
            ]
          },
          "metadata": {},
          "execution_count": 41
        }
      ]
    },
    {
      "cell_type": "markdown",
      "source": [
        "# 5. Aggregation"
      ],
      "metadata": {
        "id": "2BI6m7cT05nB"
      }
    },
    {
      "cell_type": "markdown",
      "source": [
        "# 5.1 Prepare the data"
      ],
      "metadata": {
        "id": "OdYvGTq05qQL"
      }
    },
    {
      "cell_type": "code",
      "source": [
        "SampleDb.create_collection('score')\n",
        "marks= SampleDb.score\n"
      ],
      "metadata": {
        "id": "c1ngxe_p1Ev9"
      },
      "execution_count": null,
      "outputs": []
    },
    {
      "cell_type": "code",
      "source": [
        "marks.insert_one({\"name\":\"Ramesh\",\"subject\":\"maths\",\"marks\":87})\n",
        "marks.insert_one({\"name\":\"Ramesh\",\"subject\":\"english\",\"marks\":59})\n",
        "marks.insert_one({\"name\":\"Ramesh\",\"subject\":\"science\",\"marks\":77})\n",
        "marks.insert_one({\"name\":\"Rav\",\"subject\":\"maths\",\"marks\":62})\n",
        "marks.insert_one({\"name\":\"Rav\",\"subject\":\"english\",\"marks\":83})\n",
        "marks.insert_one({\"name\":\"Rav\",\"subject\":\"science\",\"marks\":71})\n",
        "marks.insert_one({\"name\":\"Alison\",\"subject\":\"maths\",\"marks\":84})\n",
        "marks.insert_one({\"name\":\"Alison\",\"subject\":\"english\",\"marks\":82})\n",
        "marks.insert_one({\"name\":\"Alison\",\"subject\":\"science\",\"marks\":86})\n",
        "marks.insert_one({\"name\":\"Steve\",\"subject\":\"maths\",\"marks\":81})\n",
        "marks.insert_one({\"name\":\"Steve\",\"subject\":\"english\",\"marks\":89})\n",
        "marks.insert_one({\"name\":\"Steve\",\"subject\":\"science\",\"marks\":77})\n",
        "marks.insert_one({\"name\":\"Jan\",\"subject\":\"english\",\"marks\":0,\"reason\":\"absent\"})"
      ],
      "metadata": {
        "id": "oUxXwedQ1Tcw",
        "colab": {
          "base_uri": "https://localhost:8080/"
        },
        "outputId": "2f61935c-9985-49c7-8606-9ed610ec2644"
      },
      "execution_count": null,
      "outputs": [
        {
          "output_type": "execute_result",
          "data": {
            "text/plain": [
              "<pymongo.results.InsertOneResult at 0x7f5bca2f94c0>"
            ]
          },
          "metadata": {},
          "execution_count": 43
        }
      ]
    },
    {
      "cell_type": "code",
      "source": [
        "list(marks.find())"
      ],
      "metadata": {
        "id": "WstK5cgAmZ7E",
        "colab": {
          "base_uri": "https://localhost:8080/"
        },
        "outputId": "7b61a6d6-b77c-4507-9a6d-509b2f0a7f7b"
      },
      "execution_count": null,
      "outputs": [
        {
          "output_type": "execute_result",
          "data": {
            "text/plain": [
              "[{'_id': ObjectId('641a939478df7401356114fc'),\n",
              "  'name': 'Ramesh',\n",
              "  'subject': 'maths',\n",
              "  'marks': 87},\n",
              " {'_id': ObjectId('641a939478df7401356114fd'),\n",
              "  'name': 'Ramesh',\n",
              "  'subject': 'english',\n",
              "  'marks': 59},\n",
              " {'_id': ObjectId('641a939578df7401356114fe'),\n",
              "  'name': 'Ramesh',\n",
              "  'subject': 'science',\n",
              "  'marks': 77},\n",
              " {'_id': ObjectId('641a939578df7401356114ff'),\n",
              "  'name': 'Rav',\n",
              "  'subject': 'maths',\n",
              "  'marks': 62},\n",
              " {'_id': ObjectId('641a939578df740135611500'),\n",
              "  'name': 'Rav',\n",
              "  'subject': 'english',\n",
              "  'marks': 83},\n",
              " {'_id': ObjectId('641a939578df740135611501'),\n",
              "  'name': 'Rav',\n",
              "  'subject': 'science',\n",
              "  'marks': 71},\n",
              " {'_id': ObjectId('641a939578df740135611502'),\n",
              "  'name': 'Alison',\n",
              "  'subject': 'maths',\n",
              "  'marks': 84},\n",
              " {'_id': ObjectId('641a939578df740135611503'),\n",
              "  'name': 'Alison',\n",
              "  'subject': 'english',\n",
              "  'marks': 82},\n",
              " {'_id': ObjectId('641a939578df740135611504'),\n",
              "  'name': 'Alison',\n",
              "  'subject': 'science',\n",
              "  'marks': 86},\n",
              " {'_id': ObjectId('641a939578df740135611505'),\n",
              "  'name': 'Steve',\n",
              "  'subject': 'maths',\n",
              "  'marks': 81},\n",
              " {'_id': ObjectId('641a939578df740135611506'),\n",
              "  'name': 'Steve',\n",
              "  'subject': 'english',\n",
              "  'marks': 89},\n",
              " {'_id': ObjectId('641a939578df740135611507'),\n",
              "  'name': 'Steve',\n",
              "  'subject': 'science',\n",
              "  'marks': 77},\n",
              " {'_id': ObjectId('641a939578df740135611508'),\n",
              "  'name': 'Jan',\n",
              "  'subject': 'english',\n",
              "  'marks': 0,\n",
              "  'reason': 'absent'}]"
            ]
          },
          "metadata": {},
          "execution_count": 60
        }
      ]
    },
    {
      "cell_type": "markdown",
      "source": [
        "# 5.2 Limit the output"
      ],
      "metadata": {
        "id": "jUOQEwwA5u0w"
      }
    },
    {
      "cell_type": "code",
      "source": [
        "list(marks.aggregate([{\"$limit\":2}]))"
      ],
      "metadata": {
        "id": "2qJKA8354363",
        "colab": {
          "base_uri": "https://localhost:8080/"
        },
        "outputId": "88a90682-9489-41bd-f118-97be5b30cdca"
      },
      "execution_count": null,
      "outputs": [
        {
          "output_type": "execute_result",
          "data": {
            "text/plain": [
              "[{'_id': ObjectId('641a939478df7401356114fc'),\n",
              "  'name': 'Ramesh',\n",
              "  'subject': 'maths',\n",
              "  'marks': 87},\n",
              " {'_id': ObjectId('641a939478df7401356114fd'),\n",
              "  'name': 'Ramesh',\n",
              "  'subject': 'english',\n",
              "  'marks': 59}]"
            ]
          },
          "metadata": {},
          "execution_count": 61
        }
      ]
    },
    {
      "cell_type": "markdown",
      "source": [
        "# 5.3 Sort"
      ],
      "metadata": {
        "id": "cwtrvkU_5y6c"
      }
    },
    {
      "cell_type": "code",
      "source": [
        "list(marks.aggregate([{\"$sort\":{\"marks\":1}}]))\n"
      ],
      "metadata": {
        "id": "UtXQjc7-4-y_",
        "colab": {
          "base_uri": "https://localhost:8080/"
        },
        "outputId": "54ef882d-6a76-4e0f-cd00-3324ed95dede"
      },
      "execution_count": null,
      "outputs": [
        {
          "output_type": "execute_result",
          "data": {
            "text/plain": [
              "[{'_id': ObjectId('641c0f2e9aabdd00e93d7abd'),\n",
              "  'name': 'Jan',\n",
              "  'subject': 'english',\n",
              "  'marks': 0,\n",
              "  'reason': 'absent'},\n",
              " {'_id': ObjectId('641c0f2c9aabdd00e93d7ab2'),\n",
              "  'name': 'Ramesh',\n",
              "  'subject': 'english',\n",
              "  'marks': 59},\n",
              " {'_id': ObjectId('641c0f2d9aabdd00e93d7ab4'),\n",
              "  'name': 'Rav',\n",
              "  'subject': 'maths',\n",
              "  'marks': 62},\n",
              " {'_id': ObjectId('641c0f2d9aabdd00e93d7ab6'),\n",
              "  'name': 'Rav',\n",
              "  'subject': 'science',\n",
              "  'marks': 71},\n",
              " {'_id': ObjectId('641c0f2d9aabdd00e93d7ab3'),\n",
              "  'name': 'Ramesh',\n",
              "  'subject': 'science',\n",
              "  'marks': 77},\n",
              " {'_id': ObjectId('641c0f2e9aabdd00e93d7abc'),\n",
              "  'name': 'Steve',\n",
              "  'subject': 'science',\n",
              "  'marks': 77},\n",
              " {'_id': ObjectId('641c0f2e9aabdd00e93d7aba'),\n",
              "  'name': 'Steve',\n",
              "  'subject': 'maths',\n",
              "  'marks': 81},\n",
              " {'_id': ObjectId('641c0f2d9aabdd00e93d7ab8'),\n",
              "  'name': 'Alison',\n",
              "  'subject': 'english',\n",
              "  'marks': 82},\n",
              " {'_id': ObjectId('641c0f2d9aabdd00e93d7ab5'),\n",
              "  'name': 'Rav',\n",
              "  'subject': 'english',\n",
              "  'marks': 83},\n",
              " {'_id': ObjectId('641c0f2d9aabdd00e93d7ab7'),\n",
              "  'name': 'Alison',\n",
              "  'subject': 'maths',\n",
              "  'marks': 84},\n",
              " {'_id': ObjectId('641c0f2d9aabdd00e93d7ab9'),\n",
              "  'name': 'Alison',\n",
              "  'subject': 'science',\n",
              "  'marks': 86},\n",
              " {'_id': ObjectId('641c0f2c9aabdd00e93d7ab1'),\n",
              "  'name': 'Ramesh',\n",
              "  'subject': 'maths',\n",
              "  'marks': 87},\n",
              " {'_id': ObjectId('641c0f2e9aabdd00e93d7abb'),\n",
              "  'name': 'Steve',\n",
              "  'subject': 'english',\n",
              "  'marks': 89}]"
            ]
          },
          "metadata": {},
          "execution_count": 45
        }
      ]
    },
    {
      "cell_type": "code",
      "source": [
        "list(marks.aggregate([{\"$sort\":{\"marks\":-1}}]))\n"
      ],
      "metadata": {
        "id": "qYPo-2eT5Nqd",
        "colab": {
          "base_uri": "https://localhost:8080/"
        },
        "outputId": "f4f6cf4b-ac0a-4067-9a76-d5187f7032d0"
      },
      "execution_count": null,
      "outputs": [
        {
          "output_type": "execute_result",
          "data": {
            "text/plain": [
              "[{'_id': ObjectId('641a939578df740135611506'),\n",
              "  'name': 'Steve',\n",
              "  'subject': 'english',\n",
              "  'marks': 89},\n",
              " {'_id': ObjectId('641a939478df7401356114fc'),\n",
              "  'name': 'Ramesh',\n",
              "  'subject': 'maths',\n",
              "  'marks': 87},\n",
              " {'_id': ObjectId('641a939578df740135611504'),\n",
              "  'name': 'Alison',\n",
              "  'subject': 'science',\n",
              "  'marks': 86},\n",
              " {'_id': ObjectId('641a939578df740135611502'),\n",
              "  'name': 'Alison',\n",
              "  'subject': 'maths',\n",
              "  'marks': 84},\n",
              " {'_id': ObjectId('641a939578df740135611500'),\n",
              "  'name': 'Rav',\n",
              "  'subject': 'english',\n",
              "  'marks': 83},\n",
              " {'_id': ObjectId('641a939578df740135611503'),\n",
              "  'name': 'Alison',\n",
              "  'subject': 'english',\n",
              "  'marks': 82},\n",
              " {'_id': ObjectId('641a939578df740135611505'),\n",
              "  'name': 'Steve',\n",
              "  'subject': 'maths',\n",
              "  'marks': 81},\n",
              " {'_id': ObjectId('641a939578df7401356114fe'),\n",
              "  'name': 'Ramesh',\n",
              "  'subject': 'science',\n",
              "  'marks': 77},\n",
              " {'_id': ObjectId('641a939578df740135611507'),\n",
              "  'name': 'Steve',\n",
              "  'subject': 'science',\n",
              "  'marks': 77},\n",
              " {'_id': ObjectId('641a939578df740135611501'),\n",
              "  'name': 'Rav',\n",
              "  'subject': 'science',\n",
              "  'marks': 71},\n",
              " {'_id': ObjectId('641a939578df7401356114ff'),\n",
              "  'name': 'Rav',\n",
              "  'subject': 'maths',\n",
              "  'marks': 62},\n",
              " {'_id': ObjectId('641a939478df7401356114fd'),\n",
              "  'name': 'Ramesh',\n",
              "  'subject': 'english',\n",
              "  'marks': 59},\n",
              " {'_id': ObjectId('641a939578df740135611508'),\n",
              "  'name': 'Jan',\n",
              "  'subject': 'english',\n",
              "  'marks': 0,\n",
              "  'reason': 'absent'}]"
            ]
          },
          "metadata": {},
          "execution_count": 63
        }
      ]
    },
    {
      "cell_type": "markdown",
      "source": [
        "# 5.4 Sort with limit"
      ],
      "metadata": {
        "id": "dJc3P9y355Lx"
      }
    },
    {
      "cell_type": "code",
      "source": [
        "list(marks.aggregate([\n",
        "{\"$sort\":{\"marks\":-1}},\n",
        "{\"$limit\":5}\n",
        "]))"
      ],
      "metadata": {
        "id": "4eQBi8a85RHI",
        "colab": {
          "base_uri": "https://localhost:8080/"
        },
        "outputId": "23e92bd1-11ad-4a11-f142-cca42b200a8d"
      },
      "execution_count": null,
      "outputs": [
        {
          "output_type": "execute_result",
          "data": {
            "text/plain": [
              "[{'_id': ObjectId('641a939578df740135611506'),\n",
              "  'name': 'Steve',\n",
              "  'subject': 'english',\n",
              "  'marks': 89},\n",
              " {'_id': ObjectId('641a939478df7401356114fc'),\n",
              "  'name': 'Ramesh',\n",
              "  'subject': 'maths',\n",
              "  'marks': 87},\n",
              " {'_id': ObjectId('641a939578df740135611504'),\n",
              "  'name': 'Alison',\n",
              "  'subject': 'science',\n",
              "  'marks': 86},\n",
              " {'_id': ObjectId('641a939578df740135611502'),\n",
              "  'name': 'Alison',\n",
              "  'subject': 'maths',\n",
              "  'marks': 84},\n",
              " {'_id': ObjectId('641a939578df740135611500'),\n",
              "  'name': 'Rav',\n",
              "  'subject': 'english',\n",
              "  'marks': 83}]"
            ]
          },
          "metadata": {},
          "execution_count": 64
        }
      ]
    },
    {
      "cell_type": "markdown",
      "source": [
        "# 5.5 Group by"
      ],
      "metadata": {
        "id": "c4g-ihbs583h"
      }
    },
    {
      "cell_type": "code",
      "source": [
        "list(marks.aggregate([\n",
        "{\n",
        "    \"$group\":{\n",
        "        \"_id\":\"$name\",\n",
        "        \"average\":{\"$avg\":\"$marks\"}\n",
        "        }\n",
        "}\n",
        "]))"
      ],
      "metadata": {
        "id": "6lHsNtim5Wnt",
        "colab": {
          "base_uri": "https://localhost:8080/"
        },
        "outputId": "7769d02c-f9cf-4578-cd07-8cc15a6d64d3"
      },
      "execution_count": null,
      "outputs": [
        {
          "output_type": "execute_result",
          "data": {
            "text/plain": [
              "[{'_id': 'Steve', 'average': 82.33333333333333},\n",
              " {'_id': 'Jan', 'average': 0.0},\n",
              " {'_id': 'Ramesh', 'average': 74.33333333333333},\n",
              " {'_id': 'Rav', 'average': 72.0},\n",
              " {'_id': 'Alison', 'average': 84.0}]"
            ]
          },
          "metadata": {},
          "execution_count": 46
        }
      ]
    },
    {
      "cell_type": "markdown",
      "source": [
        "# 5.6 Putting it all together\n"
      ],
      "metadata": {
        "id": "VFjx0IX25fgw"
      }
    },
    {
      "cell_type": "code",
      "source": [
        "list(marks.aggregate([\n",
        "{\n",
        "    \"$group\":{\n",
        "        \"_id\":\"$name\",\n",
        "        \"average\":{\"$avg\":\"$marks\"}\n",
        "        }\n",
        "},\n",
        "{\n",
        "    \"$sort\":{\"average\":1}\n",
        "},\n",
        "{\n",
        "    \"$limit\":2\n",
        "}\n",
        "]))"
      ],
      "metadata": {
        "id": "sMsr0svZ5cMJ",
        "colab": {
          "base_uri": "https://localhost:8080/"
        },
        "outputId": "b60907d4-85da-4917-fd93-b9c7a8e18af9"
      },
      "execution_count": null,
      "outputs": [
        {
          "output_type": "execute_result",
          "data": {
            "text/plain": [
              "[{'_id': 'Jan', 'average': 0.0}, {'_id': 'Rav', 'average': 72.0}]"
            ]
          },
          "metadata": {},
          "execution_count": 48
        }
      ]
    },
    {
      "cell_type": "markdown",
      "source": [
        "# 6.Creating Indexes"
      ],
      "metadata": {
        "id": "7_tI114SAOHh"
      }
    },
    {
      "cell_type": "code",
      "source": [
        "bigdata= SampleDb.bigdata\n"
      ],
      "metadata": {
        "id": "q3Urh4FaBmKU"
      },
      "execution_count": null,
      "outputs": []
    },
    {
      "cell_type": "code",
      "source": [
        "\n",
        "import numpy as np\n",
        "for i in range(200000):\n",
        "  bigdata.insert_one({\"account_no\":i,\"balance\":np.random.rand()*1000000})"
      ],
      "metadata": {
        "id": "GbmZPZVbARcv",
        "colab": {
          "base_uri": "https://localhost:8080/",
          "height": 346
        },
        "outputId": "f6ed2409-cfb9-48b0-f75f-cae1fd6fd897"
      },
      "execution_count": null,
      "outputs": [
        {
          "output_type": "error",
          "ename": "KeyboardInterrupt",
          "evalue": "ignored",
          "traceback": [
            "\u001b[0;31m---------------------------------------------------------------------------\u001b[0m",
            "\u001b[0;31mKeyboardInterrupt\u001b[0m                         Traceback (most recent call last)",
            "\u001b[0;32m<ipython-input-50-b160dec22e8e>\u001b[0m in \u001b[0;36m<module>\u001b[0;34m\u001b[0m\n\u001b[1;32m      1\u001b[0m \u001b[0;32mimport\u001b[0m \u001b[0mnumpy\u001b[0m \u001b[0;32mas\u001b[0m \u001b[0mnp\u001b[0m\u001b[0;34m\u001b[0m\u001b[0;34m\u001b[0m\u001b[0m\n\u001b[1;32m      2\u001b[0m \u001b[0;32mfor\u001b[0m \u001b[0mi\u001b[0m \u001b[0;32min\u001b[0m \u001b[0mrange\u001b[0m\u001b[0;34m(\u001b[0m\u001b[0;36m200000\u001b[0m\u001b[0;34m)\u001b[0m\u001b[0;34m:\u001b[0m\u001b[0;34m\u001b[0m\u001b[0;34m\u001b[0m\u001b[0m\n\u001b[0;32m----> 3\u001b[0;31m   \u001b[0mbigdata\u001b[0m\u001b[0;34m.\u001b[0m\u001b[0minsert_one\u001b[0m\u001b[0;34m(\u001b[0m\u001b[0;34m{\u001b[0m\u001b[0;34m\"account_no\"\u001b[0m\u001b[0;34m:\u001b[0m\u001b[0mi\u001b[0m\u001b[0;34m,\u001b[0m\u001b[0;34m\"balance\"\u001b[0m\u001b[0;34m:\u001b[0m\u001b[0mnp\u001b[0m\u001b[0;34m.\u001b[0m\u001b[0mrandom\u001b[0m\u001b[0;34m.\u001b[0m\u001b[0mrand\u001b[0m\u001b[0;34m(\u001b[0m\u001b[0;34m)\u001b[0m\u001b[0;34m*\u001b[0m\u001b[0;36m1000000\u001b[0m\u001b[0;34m}\u001b[0m\u001b[0;34m)\u001b[0m\u001b[0;34m\u001b[0m\u001b[0;34m\u001b[0m\u001b[0m\n\u001b[0m",
            "\u001b[0;32m/usr/local/lib/python3.9/dist-packages/pymongo/collection.py\u001b[0m in \u001b[0;36minsert_one\u001b[0;34m(self, document, bypass_document_validation, session)\u001b[0m\n\u001b[1;32m    688\u001b[0m         \u001b[0mwrite_concern\u001b[0m \u001b[0;34m=\u001b[0m \u001b[0mself\u001b[0m\u001b[0;34m.\u001b[0m\u001b[0m_write_concern_for\u001b[0m\u001b[0;34m(\u001b[0m\u001b[0msession\u001b[0m\u001b[0;34m)\u001b[0m\u001b[0;34m\u001b[0m\u001b[0;34m\u001b[0m\u001b[0m\n\u001b[1;32m    689\u001b[0m         return InsertOneResult(\n\u001b[0;32m--> 690\u001b[0;31m             self._insert(document,\n\u001b[0m\u001b[1;32m    691\u001b[0m                          \u001b[0mwrite_concern\u001b[0m\u001b[0;34m=\u001b[0m\u001b[0mwrite_concern\u001b[0m\u001b[0;34m,\u001b[0m\u001b[0;34m\u001b[0m\u001b[0;34m\u001b[0m\u001b[0m\n\u001b[1;32m    692\u001b[0m                          \u001b[0mbypass_doc_val\u001b[0m\u001b[0;34m=\u001b[0m\u001b[0mbypass_document_validation\u001b[0m\u001b[0;34m,\u001b[0m\u001b[0;34m\u001b[0m\u001b[0;34m\u001b[0m\u001b[0m\n",
            "\u001b[0;32m/usr/local/lib/python3.9/dist-packages/pymongo/collection.py\u001b[0m in \u001b[0;36m_insert\u001b[0;34m(self, docs, ordered, check_keys, manipulate, write_concern, op_id, bypass_doc_val, session)\u001b[0m\n\u001b[1;32m    603\u001b[0m         \u001b[0;34m\"\"\"Internal insert helper.\"\"\"\u001b[0m\u001b[0;34m\u001b[0m\u001b[0;34m\u001b[0m\u001b[0m\n\u001b[1;32m    604\u001b[0m         \u001b[0;32mif\u001b[0m \u001b[0misinstance\u001b[0m\u001b[0;34m(\u001b[0m\u001b[0mdocs\u001b[0m\u001b[0;34m,\u001b[0m \u001b[0mabc\u001b[0m\u001b[0;34m.\u001b[0m\u001b[0mMapping\u001b[0m\u001b[0;34m)\u001b[0m\u001b[0;34m:\u001b[0m\u001b[0;34m\u001b[0m\u001b[0;34m\u001b[0m\u001b[0m\n\u001b[0;32m--> 605\u001b[0;31m             return self._insert_one(\n\u001b[0m\u001b[1;32m    606\u001b[0m                 \u001b[0mdocs\u001b[0m\u001b[0;34m,\u001b[0m \u001b[0mordered\u001b[0m\u001b[0;34m,\u001b[0m \u001b[0mcheck_keys\u001b[0m\u001b[0;34m,\u001b[0m \u001b[0mmanipulate\u001b[0m\u001b[0;34m,\u001b[0m \u001b[0mwrite_concern\u001b[0m\u001b[0;34m,\u001b[0m \u001b[0mop_id\u001b[0m\u001b[0;34m,\u001b[0m\u001b[0;34m\u001b[0m\u001b[0;34m\u001b[0m\u001b[0m\n\u001b[1;32m    607\u001b[0m                 bypass_doc_val, session)\n",
            "\u001b[0;32m/usr/local/lib/python3.9/dist-packages/pymongo/collection.py\u001b[0m in \u001b[0;36m_insert_one\u001b[0;34m(self, doc, ordered, check_keys, manipulate, write_concern, op_id, bypass_doc_val, session)\u001b[0m\n\u001b[1;32m    592\u001b[0m             \u001b[0m_check_write_command_response\u001b[0m\u001b[0;34m(\u001b[0m\u001b[0mresult\u001b[0m\u001b[0;34m)\u001b[0m\u001b[0;34m\u001b[0m\u001b[0;34m\u001b[0m\u001b[0m\n\u001b[1;32m    593\u001b[0m \u001b[0;34m\u001b[0m\u001b[0m\n\u001b[0;32m--> 594\u001b[0;31m         self.__database.client._retryable_write(\n\u001b[0m\u001b[1;32m    595\u001b[0m             acknowledged, _insert_command, session)\n\u001b[1;32m    596\u001b[0m \u001b[0;34m\u001b[0m\u001b[0m\n",
            "\u001b[0;32m/usr/local/lib/python3.9/dist-packages/pymongo/mongo_client.py\u001b[0m in \u001b[0;36m_retryable_write\u001b[0;34m(self, retryable, func, session)\u001b[0m\n\u001b[1;32m   1246\u001b[0m         \u001b[0;34m\"\"\"Internal retryable write helper.\"\"\"\u001b[0m\u001b[0;34m\u001b[0m\u001b[0;34m\u001b[0m\u001b[0m\n\u001b[1;32m   1247\u001b[0m         \u001b[0;32mwith\u001b[0m \u001b[0mself\u001b[0m\u001b[0;34m.\u001b[0m\u001b[0m_tmp_session\u001b[0m\u001b[0;34m(\u001b[0m\u001b[0msession\u001b[0m\u001b[0;34m)\u001b[0m \u001b[0;32mas\u001b[0m \u001b[0ms\u001b[0m\u001b[0;34m:\u001b[0m\u001b[0;34m\u001b[0m\u001b[0;34m\u001b[0m\u001b[0m\n\u001b[0;32m-> 1248\u001b[0;31m             \u001b[0;32mreturn\u001b[0m \u001b[0mself\u001b[0m\u001b[0;34m.\u001b[0m\u001b[0m_retry_with_session\u001b[0m\u001b[0;34m(\u001b[0m\u001b[0mretryable\u001b[0m\u001b[0;34m,\u001b[0m \u001b[0mfunc\u001b[0m\u001b[0;34m,\u001b[0m \u001b[0ms\u001b[0m\u001b[0;34m,\u001b[0m \u001b[0;32mNone\u001b[0m\u001b[0;34m)\u001b[0m\u001b[0;34m\u001b[0m\u001b[0;34m\u001b[0m\u001b[0m\n\u001b[0m\u001b[1;32m   1249\u001b[0m \u001b[0;34m\u001b[0m\u001b[0m\n\u001b[1;32m   1250\u001b[0m     \u001b[0;32mdef\u001b[0m \u001b[0m__reset_server\u001b[0m\u001b[0;34m(\u001b[0m\u001b[0mself\u001b[0m\u001b[0;34m,\u001b[0m \u001b[0maddress\u001b[0m\u001b[0;34m)\u001b[0m\u001b[0;34m:\u001b[0m\u001b[0;34m\u001b[0m\u001b[0;34m\u001b[0m\u001b[0m\n",
            "\u001b[0;32m/usr/local/lib/python3.9/dist-packages/pymongo/mongo_client.py\u001b[0m in \u001b[0;36m_retry_with_session\u001b[0;34m(self, retryable, func, session, bulk)\u001b[0m\n\u001b[1;32m   1199\u001b[0m                             \u001b[0;32mraise\u001b[0m \u001b[0mlast_error\u001b[0m\u001b[0;34m\u001b[0m\u001b[0;34m\u001b[0m\u001b[0m\n\u001b[1;32m   1200\u001b[0m                         \u001b[0mretryable\u001b[0m \u001b[0;34m=\u001b[0m \u001b[0;32mFalse\u001b[0m\u001b[0;34m\u001b[0m\u001b[0;34m\u001b[0m\u001b[0m\n\u001b[0;32m-> 1201\u001b[0;31m                     \u001b[0;32mreturn\u001b[0m \u001b[0mfunc\u001b[0m\u001b[0;34m(\u001b[0m\u001b[0msession\u001b[0m\u001b[0;34m,\u001b[0m \u001b[0msock_info\u001b[0m\u001b[0;34m,\u001b[0m \u001b[0mretryable\u001b[0m\u001b[0;34m)\u001b[0m\u001b[0;34m\u001b[0m\u001b[0;34m\u001b[0m\u001b[0m\n\u001b[0m\u001b[1;32m   1202\u001b[0m             \u001b[0;32mexcept\u001b[0m \u001b[0mServerSelectionTimeoutError\u001b[0m\u001b[0;34m:\u001b[0m\u001b[0;34m\u001b[0m\u001b[0;34m\u001b[0m\u001b[0m\n\u001b[1;32m   1203\u001b[0m                 \u001b[0;32mif\u001b[0m \u001b[0mis_retrying\u001b[0m\u001b[0;34m(\u001b[0m\u001b[0;34m)\u001b[0m\u001b[0;34m:\u001b[0m\u001b[0;34m\u001b[0m\u001b[0;34m\u001b[0m\u001b[0m\n",
            "\u001b[0;32m/usr/local/lib/python3.9/dist-packages/pymongo/collection.py\u001b[0m in \u001b[0;36m_insert_command\u001b[0;34m(session, sock_info, retryable_write)\u001b[0m\n\u001b[1;32m    580\u001b[0m                 \u001b[0mcommand\u001b[0m\u001b[0;34m[\u001b[0m\u001b[0;34m'bypassDocumentValidation'\u001b[0m\u001b[0;34m]\u001b[0m \u001b[0;34m=\u001b[0m \u001b[0;32mTrue\u001b[0m\u001b[0;34m\u001b[0m\u001b[0;34m\u001b[0m\u001b[0m\n\u001b[1;32m    581\u001b[0m \u001b[0;34m\u001b[0m\u001b[0m\n\u001b[0;32m--> 582\u001b[0;31m             result = sock_info.command(\n\u001b[0m\u001b[1;32m    583\u001b[0m                 \u001b[0mself\u001b[0m\u001b[0;34m.\u001b[0m\u001b[0m__database\u001b[0m\u001b[0;34m.\u001b[0m\u001b[0mname\u001b[0m\u001b[0;34m,\u001b[0m\u001b[0;34m\u001b[0m\u001b[0;34m\u001b[0m\u001b[0m\n\u001b[1;32m    584\u001b[0m                 \u001b[0mcommand\u001b[0m\u001b[0;34m,\u001b[0m\u001b[0;34m\u001b[0m\u001b[0;34m\u001b[0m\u001b[0m\n",
            "\u001b[0;32m/usr/local/lib/python3.9/dist-packages/pymongo/pool.py\u001b[0m in \u001b[0;36mcommand\u001b[0;34m(self, dbname, spec, slave_ok, read_preference, codec_options, check, allowable_errors, check_keys, read_concern, write_concern, parse_write_concern_error, collation, session, client, retryable_write, publish_events)\u001b[0m\n\u001b[1;32m    582\u001b[0m         \u001b[0;31m# Catch socket.error, KeyboardInterrupt, etc. and close ourselves.\u001b[0m\u001b[0;34m\u001b[0m\u001b[0;34m\u001b[0m\u001b[0m\n\u001b[1;32m    583\u001b[0m         \u001b[0;32mexcept\u001b[0m \u001b[0mBaseException\u001b[0m \u001b[0;32mas\u001b[0m \u001b[0merror\u001b[0m\u001b[0;34m:\u001b[0m\u001b[0;34m\u001b[0m\u001b[0;34m\u001b[0m\u001b[0m\n\u001b[0;32m--> 584\u001b[0;31m             \u001b[0mself\u001b[0m\u001b[0;34m.\u001b[0m\u001b[0m_raise_connection_failure\u001b[0m\u001b[0;34m(\u001b[0m\u001b[0merror\u001b[0m\u001b[0;34m)\u001b[0m\u001b[0;34m\u001b[0m\u001b[0;34m\u001b[0m\u001b[0m\n\u001b[0m\u001b[1;32m    585\u001b[0m \u001b[0;34m\u001b[0m\u001b[0m\n\u001b[1;32m    586\u001b[0m     \u001b[0;32mdef\u001b[0m \u001b[0msend_message\u001b[0m\u001b[0;34m(\u001b[0m\u001b[0mself\u001b[0m\u001b[0;34m,\u001b[0m \u001b[0mmessage\u001b[0m\u001b[0;34m,\u001b[0m \u001b[0mmax_doc_size\u001b[0m\u001b[0;34m)\u001b[0m\u001b[0;34m:\u001b[0m\u001b[0;34m\u001b[0m\u001b[0;34m\u001b[0m\u001b[0m\n",
            "\u001b[0;32m/usr/local/lib/python3.9/dist-packages/pymongo/pool.py\u001b[0m in \u001b[0;36m_raise_connection_failure\u001b[0;34m(self, error)\u001b[0m\n\u001b[1;32m    743\u001b[0m             \u001b[0m_raise_connection_failure\u001b[0m\u001b[0;34m(\u001b[0m\u001b[0mself\u001b[0m\u001b[0;34m.\u001b[0m\u001b[0maddress\u001b[0m\u001b[0;34m,\u001b[0m \u001b[0merror\u001b[0m\u001b[0;34m)\u001b[0m\u001b[0;34m\u001b[0m\u001b[0;34m\u001b[0m\u001b[0m\n\u001b[1;32m    744\u001b[0m         \u001b[0;32melse\u001b[0m\u001b[0;34m:\u001b[0m\u001b[0;34m\u001b[0m\u001b[0;34m\u001b[0m\u001b[0m\n\u001b[0;32m--> 745\u001b[0;31m             \u001b[0;32mraise\u001b[0m \u001b[0merror\u001b[0m\u001b[0;34m\u001b[0m\u001b[0;34m\u001b[0m\u001b[0m\n\u001b[0m\u001b[1;32m    746\u001b[0m \u001b[0;34m\u001b[0m\u001b[0m\n\u001b[1;32m    747\u001b[0m     \u001b[0;32mdef\u001b[0m \u001b[0m__eq__\u001b[0m\u001b[0;34m(\u001b[0m\u001b[0mself\u001b[0m\u001b[0;34m,\u001b[0m \u001b[0mother\u001b[0m\u001b[0;34m)\u001b[0m\u001b[0;34m:\u001b[0m\u001b[0;34m\u001b[0m\u001b[0;34m\u001b[0m\u001b[0m\n",
            "\u001b[0;32m/usr/local/lib/python3.9/dist-packages/pymongo/pool.py\u001b[0m in \u001b[0;36mcommand\u001b[0;34m(self, dbname, spec, slave_ok, read_preference, codec_options, check, allowable_errors, check_keys, read_concern, write_concern, parse_write_concern_error, collation, session, client, retryable_write, publish_events)\u001b[0m\n\u001b[1;32m    568\u001b[0m             \u001b[0mself\u001b[0m\u001b[0;34m.\u001b[0m\u001b[0m_raise_if_not_writable\u001b[0m\u001b[0;34m(\u001b[0m\u001b[0munacknowledged\u001b[0m\u001b[0;34m)\u001b[0m\u001b[0;34m\u001b[0m\u001b[0;34m\u001b[0m\u001b[0m\n\u001b[1;32m    569\u001b[0m         \u001b[0;32mtry\u001b[0m\u001b[0;34m:\u001b[0m\u001b[0;34m\u001b[0m\u001b[0;34m\u001b[0m\u001b[0m\n\u001b[0;32m--> 570\u001b[0;31m             return command(self.sock, dbname, spec, slave_ok,\n\u001b[0m\u001b[1;32m    571\u001b[0m                            \u001b[0mself\u001b[0m\u001b[0;34m.\u001b[0m\u001b[0mis_mongos\u001b[0m\u001b[0;34m,\u001b[0m \u001b[0mread_preference\u001b[0m\u001b[0;34m,\u001b[0m \u001b[0mcodec_options\u001b[0m\u001b[0;34m,\u001b[0m\u001b[0;34m\u001b[0m\u001b[0;34m\u001b[0m\u001b[0m\n\u001b[1;32m    572\u001b[0m                            \u001b[0msession\u001b[0m\u001b[0;34m,\u001b[0m \u001b[0mclient\u001b[0m\u001b[0;34m,\u001b[0m \u001b[0mcheck\u001b[0m\u001b[0;34m,\u001b[0m \u001b[0mallowable_errors\u001b[0m\u001b[0;34m,\u001b[0m\u001b[0;34m\u001b[0m\u001b[0;34m\u001b[0m\u001b[0m\n",
            "\u001b[0;32m/usr/local/lib/python3.9/dist-packages/pymongo/network.py\u001b[0m in \u001b[0;36mcommand\u001b[0;34m(sock, dbname, spec, slave_ok, is_mongos, read_preference, codec_options, session, client, check, allowable_errors, address, check_keys, listeners, max_bson_size, read_concern, parse_write_concern_error, collation, compression_ctx, use_op_msg, unacknowledged)\u001b[0m\n\u001b[1;32m    139\u001b[0m             \u001b[0mresponse_doc\u001b[0m \u001b[0;34m=\u001b[0m \u001b[0;34m{\u001b[0m\u001b[0;34m\"ok\"\u001b[0m\u001b[0;34m:\u001b[0m \u001b[0;36m1\u001b[0m\u001b[0;34m}\u001b[0m\u001b[0;34m\u001b[0m\u001b[0;34m\u001b[0m\u001b[0m\n\u001b[1;32m    140\u001b[0m         \u001b[0;32melse\u001b[0m\u001b[0;34m:\u001b[0m\u001b[0;34m\u001b[0m\u001b[0;34m\u001b[0m\u001b[0m\n\u001b[0;32m--> 141\u001b[0;31m             \u001b[0mreply\u001b[0m \u001b[0;34m=\u001b[0m \u001b[0mreceive_message\u001b[0m\u001b[0;34m(\u001b[0m\u001b[0msock\u001b[0m\u001b[0;34m,\u001b[0m \u001b[0mrequest_id\u001b[0m\u001b[0;34m)\u001b[0m\u001b[0;34m\u001b[0m\u001b[0;34m\u001b[0m\u001b[0m\n\u001b[0m\u001b[1;32m    142\u001b[0m             \u001b[0munpacked_docs\u001b[0m \u001b[0;34m=\u001b[0m \u001b[0mreply\u001b[0m\u001b[0;34m.\u001b[0m\u001b[0munpack_response\u001b[0m\u001b[0;34m(\u001b[0m\u001b[0mcodec_options\u001b[0m\u001b[0;34m=\u001b[0m\u001b[0mcodec_options\u001b[0m\u001b[0;34m)\u001b[0m\u001b[0;34m\u001b[0m\u001b[0;34m\u001b[0m\u001b[0m\n\u001b[1;32m    143\u001b[0m \u001b[0;34m\u001b[0m\u001b[0m\n",
            "\u001b[0;32m/usr/local/lib/python3.9/dist-packages/pymongo/network.py\u001b[0m in \u001b[0;36mreceive_message\u001b[0;34m(sock, request_id, max_message_size)\u001b[0m\n\u001b[1;32m    171\u001b[0m     \u001b[0;31m# Ignore the response's request id.\u001b[0m\u001b[0;34m\u001b[0m\u001b[0;34m\u001b[0m\u001b[0m\n\u001b[1;32m    172\u001b[0m     length, _, response_to, op_code = _UNPACK_HEADER(\n\u001b[0;32m--> 173\u001b[0;31m         _receive_data_on_socket(sock, 16))\n\u001b[0m\u001b[1;32m    174\u001b[0m     \u001b[0;31m# No request_id for exhaust cursor \"getMore\".\u001b[0m\u001b[0;34m\u001b[0m\u001b[0;34m\u001b[0m\u001b[0m\n\u001b[1;32m    175\u001b[0m     \u001b[0;32mif\u001b[0m \u001b[0mrequest_id\u001b[0m \u001b[0;32mis\u001b[0m \u001b[0;32mnot\u001b[0m \u001b[0;32mNone\u001b[0m\u001b[0;34m:\u001b[0m\u001b[0;34m\u001b[0m\u001b[0;34m\u001b[0m\u001b[0m\n",
            "\u001b[0;32m/usr/local/lib/python3.9/dist-packages/pymongo/network.py\u001b[0m in \u001b[0;36m_receive_data_on_socket\u001b[0;34m(sock, length)\u001b[0m\n\u001b[1;32m    230\u001b[0m         \u001b[0;32mwhile\u001b[0m \u001b[0mbytes_read\u001b[0m \u001b[0;34m<\u001b[0m \u001b[0mlength\u001b[0m\u001b[0;34m:\u001b[0m\u001b[0;34m\u001b[0m\u001b[0;34m\u001b[0m\u001b[0m\n\u001b[1;32m    231\u001b[0m             \u001b[0;32mtry\u001b[0m\u001b[0;34m:\u001b[0m\u001b[0;34m\u001b[0m\u001b[0;34m\u001b[0m\u001b[0m\n\u001b[0;32m--> 232\u001b[0;31m                 \u001b[0mchunk_length\u001b[0m \u001b[0;34m=\u001b[0m \u001b[0msock\u001b[0m\u001b[0;34m.\u001b[0m\u001b[0mrecv_into\u001b[0m\u001b[0;34m(\u001b[0m\u001b[0mmv\u001b[0m\u001b[0;34m[\u001b[0m\u001b[0mbytes_read\u001b[0m\u001b[0;34m:\u001b[0m\u001b[0;34m]\u001b[0m\u001b[0;34m)\u001b[0m\u001b[0;34m\u001b[0m\u001b[0;34m\u001b[0m\u001b[0m\n\u001b[0m\u001b[1;32m    233\u001b[0m             \u001b[0;32mexcept\u001b[0m \u001b[0;34m(\u001b[0m\u001b[0mIOError\u001b[0m\u001b[0;34m,\u001b[0m \u001b[0mOSError\u001b[0m\u001b[0;34m)\u001b[0m \u001b[0;32mas\u001b[0m \u001b[0mexc\u001b[0m\u001b[0;34m:\u001b[0m\u001b[0;34m\u001b[0m\u001b[0;34m\u001b[0m\u001b[0m\n\u001b[1;32m    234\u001b[0m                 \u001b[0;32mif\u001b[0m \u001b[0m_errno_from_exception\u001b[0m\u001b[0;34m(\u001b[0m\u001b[0mexc\u001b[0m\u001b[0;34m)\u001b[0m \u001b[0;34m==\u001b[0m \u001b[0merrno\u001b[0m\u001b[0;34m.\u001b[0m\u001b[0mEINTR\u001b[0m\u001b[0;34m:\u001b[0m\u001b[0;34m\u001b[0m\u001b[0;34m\u001b[0m\u001b[0m\n",
            "\u001b[0;32m/usr/lib/python3.9/ssl.py\u001b[0m in \u001b[0;36mrecv_into\u001b[0;34m(self, buffer, nbytes, flags)\u001b[0m\n\u001b[1;32m   1240\u001b[0m                   \u001b[0;34m\"non-zero flags not allowed in calls to recv_into() on %s\"\u001b[0m \u001b[0;34m%\u001b[0m\u001b[0;34m\u001b[0m\u001b[0;34m\u001b[0m\u001b[0m\n\u001b[1;32m   1241\u001b[0m                   self.__class__)\n\u001b[0;32m-> 1242\u001b[0;31m             \u001b[0;32mreturn\u001b[0m \u001b[0mself\u001b[0m\u001b[0;34m.\u001b[0m\u001b[0mread\u001b[0m\u001b[0;34m(\u001b[0m\u001b[0mnbytes\u001b[0m\u001b[0;34m,\u001b[0m \u001b[0mbuffer\u001b[0m\u001b[0;34m)\u001b[0m\u001b[0;34m\u001b[0m\u001b[0;34m\u001b[0m\u001b[0m\n\u001b[0m\u001b[1;32m   1243\u001b[0m         \u001b[0;32melse\u001b[0m\u001b[0;34m:\u001b[0m\u001b[0;34m\u001b[0m\u001b[0;34m\u001b[0m\u001b[0m\n\u001b[1;32m   1244\u001b[0m             \u001b[0;32mreturn\u001b[0m \u001b[0msuper\u001b[0m\u001b[0;34m(\u001b[0m\u001b[0;34m)\u001b[0m\u001b[0;34m.\u001b[0m\u001b[0mrecv_into\u001b[0m\u001b[0;34m(\u001b[0m\u001b[0mbuffer\u001b[0m\u001b[0;34m,\u001b[0m \u001b[0mnbytes\u001b[0m\u001b[0;34m,\u001b[0m \u001b[0mflags\u001b[0m\u001b[0;34m)\u001b[0m\u001b[0;34m\u001b[0m\u001b[0;34m\u001b[0m\u001b[0m\n",
            "\u001b[0;32m/usr/lib/python3.9/ssl.py\u001b[0m in \u001b[0;36mread\u001b[0;34m(self, len, buffer)\u001b[0m\n\u001b[1;32m   1098\u001b[0m         \u001b[0;32mtry\u001b[0m\u001b[0;34m:\u001b[0m\u001b[0;34m\u001b[0m\u001b[0;34m\u001b[0m\u001b[0m\n\u001b[1;32m   1099\u001b[0m             \u001b[0;32mif\u001b[0m \u001b[0mbuffer\u001b[0m \u001b[0;32mis\u001b[0m \u001b[0;32mnot\u001b[0m \u001b[0;32mNone\u001b[0m\u001b[0;34m:\u001b[0m\u001b[0;34m\u001b[0m\u001b[0;34m\u001b[0m\u001b[0m\n\u001b[0;32m-> 1100\u001b[0;31m                 \u001b[0;32mreturn\u001b[0m \u001b[0mself\u001b[0m\u001b[0;34m.\u001b[0m\u001b[0m_sslobj\u001b[0m\u001b[0;34m.\u001b[0m\u001b[0mread\u001b[0m\u001b[0;34m(\u001b[0m\u001b[0mlen\u001b[0m\u001b[0;34m,\u001b[0m \u001b[0mbuffer\u001b[0m\u001b[0;34m)\u001b[0m\u001b[0;34m\u001b[0m\u001b[0;34m\u001b[0m\u001b[0m\n\u001b[0m\u001b[1;32m   1101\u001b[0m             \u001b[0;32melse\u001b[0m\u001b[0;34m:\u001b[0m\u001b[0;34m\u001b[0m\u001b[0;34m\u001b[0m\u001b[0m\n\u001b[1;32m   1102\u001b[0m                 \u001b[0;32mreturn\u001b[0m \u001b[0mself\u001b[0m\u001b[0;34m.\u001b[0m\u001b[0m_sslobj\u001b[0m\u001b[0;34m.\u001b[0m\u001b[0mread\u001b[0m\u001b[0;34m(\u001b[0m\u001b[0mlen\u001b[0m\u001b[0;34m)\u001b[0m\u001b[0;34m\u001b[0m\u001b[0;34m\u001b[0m\u001b[0m\n",
            "\u001b[0;31mKeyboardInterrupt\u001b[0m: "
          ]
        }
      ]
    },
    {
      "cell_type": "code",
      "source": [
        "bigdata.count()\n"
      ],
      "metadata": {
        "id": "CJI01jFUAwLa",
        "colab": {
          "base_uri": "https://localhost:8080/"
        },
        "outputId": "da16c3bf-8fd0-4cff-b073-4523c21be21a"
      },
      "execution_count": null,
      "outputs": [
        {
          "output_type": "stream",
          "name": "stderr",
          "text": [
            "<ipython-input-51-11b736c46963>:1: DeprecationWarning: count is deprecated. Use estimated_document_count or count_documents instead. Please note that $where must be replaced by $expr, $near must be replaced by $geoWithin with $center, and $nearSphere must be replaced by $geoWithin with $centerSphere\n",
            "  bigdata.count()\n"
          ]
        },
        {
          "output_type": "execute_result",
          "data": {
            "text/plain": [
              "4939"
            ]
          },
          "metadata": {},
          "execution_count": 51
        }
      ]
    },
    {
      "cell_type": "markdown",
      "source": [
        "Measure the time taken by a query\n"
      ],
      "metadata": {
        "id": "wvZD2GJLCTYD"
      }
    },
    {
      "cell_type": "code",
      "source": [
        "bigdata.find({'account_no':28982}).explain()"
      ],
      "metadata": {
        "id": "2KbGBVT5CWUE",
        "colab": {
          "base_uri": "https://localhost:8080/"
        },
        "outputId": "51af7ae6-39e7-478c-e9fe-a1a87a347c69"
      },
      "execution_count": null,
      "outputs": [
        {
          "output_type": "execute_result",
          "data": {
            "text/plain": [
              "{'explainVersion': '1',\n",
              " 'queryPlanner': {'namespace': 'Bakery.bigdata',\n",
              "  'indexFilterSet': False,\n",
              "  'parsedQuery': {'account_no': {'$eq': 28982}},\n",
              "  'maxIndexedOrSolutionsReached': False,\n",
              "  'maxIndexedAndSolutionsReached': False,\n",
              "  'maxScansToExplodeReached': False,\n",
              "  'winningPlan': {'stage': 'COLLSCAN',\n",
              "   'filter': {'account_no': {'$eq': 28982}},\n",
              "   'direction': 'forward'},\n",
              "  'rejectedPlans': []},\n",
              " 'executionStats': {'executionSuccess': True,\n",
              "  'nReturned': 0,\n",
              "  'executionTimeMillis': 3,\n",
              "  'totalKeysExamined': 0,\n",
              "  'totalDocsExamined': 4939,\n",
              "  'executionStages': {'stage': 'COLLSCAN',\n",
              "   'filter': {'account_no': {'$eq': 28982}},\n",
              "   'nReturned': 0,\n",
              "   'executionTimeMillisEstimate': 0,\n",
              "   'works': 4941,\n",
              "   'advanced': 0,\n",
              "   'needTime': 4940,\n",
              "   'needYield': 0,\n",
              "   'saveState': 4,\n",
              "   'restoreState': 4,\n",
              "   'isEOF': 1,\n",
              "   'direction': 'forward',\n",
              "   'docsExamined': 4939},\n",
              "  'allPlansExecution': []},\n",
              " 'command': {'find': 'bigdata',\n",
              "  'filter': {'account_no': 28982},\n",
              "  '$db': 'Bakery'},\n",
              " 'serverInfo': {'host': 'ac-waxjjtl-shard-00-01.8dqygz0.mongodb.net',\n",
              "  'port': 27017,\n",
              "  'version': '5.0.15',\n",
              "  'gitVersion': '935639beed3d0c19c2551c93854b831107c0b118'},\n",
              " 'serverParameters': {'internalQueryFacetBufferSizeBytes': 104857600,\n",
              "  'internalQueryFacetMaxOutputDocSizeBytes': 104857600,\n",
              "  'internalLookupStageIntermediateDocumentMaxSizeBytes': 16793600,\n",
              "  'internalDocumentSourceGroupMaxMemoryBytes': 104857600,\n",
              "  'internalQueryMaxBlockingSortMemoryUsageBytes': 33554432,\n",
              "  'internalQueryProhibitBlockingMergeOnMongoS': 0,\n",
              "  'internalQueryMaxAddToSetBytes': 104857600,\n",
              "  'internalDocumentSourceSetWindowFieldsMaxMemoryBytes': 104857600},\n",
              " 'ok': 1.0,\n",
              " '$clusterTime': {'clusterTime': Timestamp(1679561554, 12),\n",
              "  'signature': {'hash': b'\"pa3\\x947\\xab\\x02\\'9\\x85H\\x14F\\xfb\\x1a\\xc6\\xd2T\\xcf',\n",
              "   'keyId': 7156242167491461122}},\n",
              " 'operationTime': Timestamp(1679561554, 12)}"
            ]
          },
          "metadata": {},
          "execution_count": 52
        }
      ]
    },
    {
      "cell_type": "code",
      "source": [
        "bigdata.create_index('account_no')\n"
      ],
      "metadata": {
        "id": "hu3w7duZCZKD",
        "colab": {
          "base_uri": "https://localhost:8080/",
          "height": 35
        },
        "outputId": "2e0299e7-742c-43cb-f33a-624dc03c528c"
      },
      "execution_count": null,
      "outputs": [
        {
          "output_type": "execute_result",
          "data": {
            "text/plain": [
              "'account_no_1'"
            ],
            "application/vnd.google.colaboratory.intrinsic+json": {
              "type": "string"
            }
          },
          "metadata": {},
          "execution_count": 53
        }
      ]
    },
    {
      "cell_type": "code",
      "source": [
        "bigdata.index_information()"
      ],
      "metadata": {
        "id": "iNCnzOQGCawi",
        "colab": {
          "base_uri": "https://localhost:8080/"
        },
        "outputId": "ad743bbc-a5d6-4d9b-d11d-9a56626a49a5"
      },
      "execution_count": null,
      "outputs": [
        {
          "output_type": "execute_result",
          "data": {
            "text/plain": [
              "{'_id_': {'v': 2, 'key': [('_id', 1)]},\n",
              " 'account_no_1': {'v': 2, 'key': [('account_no', 1)]}}"
            ]
          },
          "metadata": {},
          "execution_count": 54
        }
      ]
    },
    {
      "cell_type": "code",
      "source": [
        "db.bigdata.find({\"account_no\": 6271}).explain()"
      ],
      "metadata": {
        "id": "tyjYcnfbCdBn",
        "colab": {
          "base_uri": "https://localhost:8080/"
        },
        "outputId": "f32ba8d4-36ad-4173-a10c-9b8d57cb5055"
      },
      "execution_count": null,
      "outputs": [
        {
          "output_type": "execute_result",
          "data": {
            "text/plain": [
              "{'explainVersion': '1',\n",
              " 'queryPlanner': {'namespace': 'test.bigdata',\n",
              "  'indexFilterSet': False,\n",
              "  'parsedQuery': {'account_no': {'$eq': 6271}},\n",
              "  'maxIndexedOrSolutionsReached': False,\n",
              "  'maxIndexedAndSolutionsReached': False,\n",
              "  'maxScansToExplodeReached': False,\n",
              "  'winningPlan': {'stage': 'EOF'},\n",
              "  'rejectedPlans': []},\n",
              " 'executionStats': {'executionSuccess': True,\n",
              "  'nReturned': 0,\n",
              "  'executionTimeMillis': 0,\n",
              "  'totalKeysExamined': 0,\n",
              "  'totalDocsExamined': 0,\n",
              "  'executionStages': {'stage': 'EOF',\n",
              "   'nReturned': 0,\n",
              "   'executionTimeMillisEstimate': 0,\n",
              "   'works': 1,\n",
              "   'advanced': 0,\n",
              "   'needTime': 0,\n",
              "   'needYield': 0,\n",
              "   'saveState': 0,\n",
              "   'restoreState': 0,\n",
              "   'isEOF': 1},\n",
              "  'allPlansExecution': []},\n",
              " 'command': {'find': 'bigdata', 'filter': {'account_no': 6271}, '$db': 'test'},\n",
              " 'serverInfo': {'host': 'ac-waxjjtl-shard-00-01.8dqygz0.mongodb.net',\n",
              "  'port': 27017,\n",
              "  'version': '5.0.15',\n",
              "  'gitVersion': '935639beed3d0c19c2551c93854b831107c0b118'},\n",
              " 'serverParameters': {'internalQueryFacetBufferSizeBytes': 104857600,\n",
              "  'internalQueryFacetMaxOutputDocSizeBytes': 104857600,\n",
              "  'internalLookupStageIntermediateDocumentMaxSizeBytes': 16793600,\n",
              "  'internalDocumentSourceGroupMaxMemoryBytes': 104857600,\n",
              "  'internalQueryMaxBlockingSortMemoryUsageBytes': 33554432,\n",
              "  'internalQueryProhibitBlockingMergeOnMongoS': 0,\n",
              "  'internalQueryMaxAddToSetBytes': 104857600,\n",
              "  'internalDocumentSourceSetWindowFieldsMaxMemoryBytes': 104857600},\n",
              " 'ok': 1.0,\n",
              " '$clusterTime': {'clusterTime': Timestamp(1679561590, 70),\n",
              "  'signature': {'hash': b'\\xc2RlA\\xcbC\\x12U\\xfbBb\\xed7\\xa4t\\x1b8\\x85\\x98\\x15',\n",
              "   'keyId': 7156242167491461122}},\n",
              " 'operationTime': Timestamp(1679561590, 70)}"
            ]
          },
          "metadata": {},
          "execution_count": 55
        }
      ]
    },
    {
      "cell_type": "code",
      "source": [],
      "metadata": {
        "id": "cCLPAXsXCfaJ"
      },
      "execution_count": null,
      "outputs": []
    }
  ]
}